{
  "cells": [
    {
      "cell_type": "markdown",
      "id": "2f7b4189",
      "metadata": {
        "id": "2f7b4189"
      },
      "source": [
        "##Detectando e Prevenindo Ataques de SQL Injection\n"
      ]
    },
    {
      "cell_type": "code",
      "execution_count": null,
      "id": "geIpUmd51tEW",
      "metadata": {
        "colab": {
          "base_uri": "https://localhost:8080/"
        },
        "id": "geIpUmd51tEW",
        "outputId": "2987fdb4-3f13-43ad-b6ce-5ac42fa382e9"
      },
      "outputs": [
        {
          "output_type": "stream",
          "name": "stdout",
          "text": [
            "Mounted at /content/drive\n"
          ]
        }
      ],
      "source": [
        "from google.colab import drive\n",
        "drive.mount('/content/drive')"
      ]
    },
    {
      "cell_type": "code",
      "execution_count": null,
      "id": "NV3a1ioy1wG-",
      "metadata": {
        "colab": {
          "base_uri": "https://localhost:8080/"
        },
        "id": "NV3a1ioy1wG-",
        "outputId": "96cb77e2-8118-4096-c5b1-a97d48dc14d3"
      },
      "outputs": [
        {
          "output_type": "stream",
          "name": "stdout",
          "text": [
            "/content/drive/MyDrive/CursoIACyber\n",
            "dados  modelos\tProjeto5.ipynb\tProjeto9.ipynb\n"
          ]
        }
      ],
      "source": [
        "%cd drive/MyDrive/CursoIACyber\n",
        "!ls"
      ]
    },
    {
      "cell_type": "markdown",
      "id": "4f230e94",
      "metadata": {
        "id": "4f230e94"
      },
      "source": [
        "## Instalando e Carregando os Pacotes"
      ]
    },
    {
      "cell_type": "code",
      "execution_count": null,
      "id": "3dcf599f-f3c3-4d15-9f68-9def5f3860aa",
      "metadata": {
        "id": "3dcf599f-f3c3-4d15-9f68-9def5f3860aa",
        "tags": []
      },
      "outputs": [],
      "source": [
        "import pickle\n",
        "import sklearn\n",
        "import pandas as pd\n",
        "from time import time\n",
        "from sklearn.model_selection import train_test_split\n",
        "from sklearn.feature_extraction.text import TfidfVectorizer\n",
        "from sklearn.linear_model import LogisticRegression\n",
        "from sklearn.tree import DecisionTreeClassifier\n",
        "from sklearn.ensemble import RandomForestClassifier, GradientBoostingClassifier\n",
        "from sklearn.naive_bayes import MultinomialNB\n",
        "from sklearn.svm import SVC\n",
        "from sklearn.metrics import confusion_matrix, classification_report\n",
        "from sklearn.metrics import f1_score, precision_score, recall_score, accuracy_score"
      ]
    },
    {
      "cell_type": "markdown",
      "id": "48f74814-998d-4ac0-a074-dd817974ff32",
      "metadata": {
        "id": "48f74814-998d-4ac0-a074-dd817974ff32"
      },
      "source": [
        "## Carregando os Dados"
      ]
    },
    {
      "cell_type": "code",
      "execution_count": null,
      "id": "33609faf",
      "metadata": {
        "id": "33609faf"
      },
      "outputs": [],
      "source": [
        "# Carrega o dataset de queries SQL submetidas a um banco de dados\n",
        "dados_sql = pd.read_csv(\"dados/dados_sql.csv\", encoding = 'utf-8')"
      ]
    },
    {
      "cell_type": "code",
      "execution_count": null,
      "id": "592f3bfc",
      "metadata": {
        "colab": {
          "base_uri": "https://localhost:8080/"
        },
        "id": "592f3bfc",
        "outputId": "7bcdbb49-9003-43b3-e98b-8b77ee144b69"
      },
      "outputs": [
        {
          "data": {
            "text/plain": [
              "(30919, 2)"
            ]
          },
          "execution_count": 5,
          "metadata": {},
          "output_type": "execute_result"
        }
      ],
      "source": [
        "# Shape\n",
        "dados_sql.shape"
      ]
    },
    {
      "cell_type": "code",
      "execution_count": null,
      "id": "c825543d",
      "metadata": {
        "colab": {
          "base_uri": "https://localhost:8080/"
        },
        "id": "c825543d",
        "outputId": "b302c207-627d-4cae-99cd-3ac77f383982"
      },
      "outputs": [
        {
          "name": "stdout",
          "output_type": "stream",
          "text": [
            "<class 'pandas.core.frame.DataFrame'>\n",
            "RangeIndex: 30919 entries, 0 to 30918\n",
            "Data columns (total 2 columns):\n",
            " #   Column  Non-Null Count  Dtype \n",
            "---  ------  --------------  ----- \n",
            " 0   Query   30919 non-null  object\n",
            " 1   Label   30919 non-null  int64 \n",
            "dtypes: int64(1), object(1)\n",
            "memory usage: 483.2+ KB\n"
          ]
        }
      ],
      "source": [
        "# Info\n",
        "dados_sql.info()"
      ]
    },
    {
      "cell_type": "markdown",
      "id": "f79d71a7",
      "metadata": {
        "id": "f79d71a7"
      },
      "source": [
        "## Análise Exploratória e Limpeza de Dados"
      ]
    },
    {
      "cell_type": "code",
      "execution_count": null,
      "id": "a58821db",
      "metadata": {
        "colab": {
          "base_uri": "https://localhost:8080/"
        },
        "id": "a58821db",
        "outputId": "eb1b0320-5853-4514-d9e4-86d4ba628368"
      },
      "outputs": [
        {
          "data": {
            "text/plain": [
              "12"
            ]
          },
          "execution_count": 7,
          "metadata": {},
          "output_type": "execute_result"
        }
      ],
      "source": [
        "# Verificando registros duplicados\n",
        "dados_sql.duplicated(subset = ['Query', 'Label']).sum()"
      ]
    },
    {
      "cell_type": "code",
      "execution_count": null,
      "id": "cdc7ff9d",
      "metadata": {
        "colab": {
          "base_uri": "https://localhost:8080/"
        },
        "id": "cdc7ff9d",
        "outputId": "8f64bbd1-a8c3-4f90-b06c-3de76fbec4f4"
      },
      "outputs": [
        {
          "data": {
            "text/plain": [
              "Query    0\n",
              "Label    0\n",
              "dtype: int64"
            ]
          },
          "execution_count": 8,
          "metadata": {},
          "output_type": "execute_result"
        }
      ],
      "source": [
        "# Verificando valores ausentes\n",
        "dados_sql.isnull().sum()"
      ]
    },
    {
      "cell_type": "code",
      "execution_count": null,
      "id": "21004175",
      "metadata": {
        "id": "21004175"
      },
      "outputs": [],
      "source": [
        "# Removendo registros duplicados\n",
        "dados_sql.drop_duplicates(inplace = True)"
      ]
    },
    {
      "cell_type": "code",
      "execution_count": null,
      "id": "bad73aea",
      "metadata": {
        "colab": {
          "base_uri": "https://localhost:8080/"
        },
        "id": "bad73aea",
        "outputId": "239d7617-b13c-470f-ded2-eb6b11a762b5"
      },
      "outputs": [
        {
          "data": {
            "text/plain": [
              "0    19529\n",
              "1    11378\n",
              "Name: Label, dtype: int64"
            ]
          },
          "execution_count": 10,
          "metadata": {},
          "output_type": "execute_result"
        }
      ],
      "source": [
        "# Contagem de classe\n",
        "dados_sql.Label.value_counts()"
      ]
    },
    {
      "cell_type": "code",
      "execution_count": null,
      "id": "6f4980cc-ce06-4a13-8ae4-f2b27a89fd25",
      "metadata": {
        "colab": {
          "base_uri": "https://localhost:8080/"
        },
        "id": "6f4980cc-ce06-4a13-8ae4-f2b27a89fd25",
        "outputId": "0d57fe41-aeef-411b-d27d-7bd5692ff137",
        "tags": []
      },
      "outputs": [
        {
          "name": "stdout",
          "output_type": "stream",
          "text": [
            "Queries SQL Seguras: 19529\n",
            "Queries SQL Maliciosas: 11378\n",
            "Shape do Dataset: (30907, 2)\n"
          ]
        }
      ],
      "source": [
        "# Resumo\n",
        "print(f\"Queries SQL Seguras: {dados_sql['Label'].value_counts()[0]}\")\n",
        "print(f\"Queries SQL Maliciosas: {dados_sql['Label'].value_counts()[1]}\")\n",
        "print(f\"Shape do Dataset: {dados_sql.shape}\")"
      ]
    },
    {
      "cell_type": "markdown",
      "id": "9ca8c5bb-9082-4cf1-a408-1c5b5fdcba31",
      "metadata": {
        "id": "9ca8c5bb-9082-4cf1-a408-1c5b5fdcba31"
      },
      "source": [
        "## Pré-Processamento dos Dados e Vetorização"
      ]
    },
    {
      "cell_type": "code",
      "execution_count": null,
      "id": "012592c8-2013-4c90-a81d-1fea08ec4d24",
      "metadata": {
        "id": "012592c8-2013-4c90-a81d-1fea08ec4d24",
        "tags": []
      },
      "outputs": [],
      "source": [
        "# Separa X e Y\n",
        "X = dados_sql['Query']\n",
        "y = dados_sql['Label']"
      ]
    },
    {
      "cell_type": "code",
      "execution_count": null,
      "id": "0edc1a01",
      "metadata": {
        "id": "0edc1a01"
      },
      "outputs": [],
      "source": [
        "# Divisão em treino e teste\n",
        "X_treino, X_teste, y_treino, y_teste = train_test_split(X, y, test_size = 0.3, random_state = 1)"
      ]
    },
    {
      "cell_type": "markdown",
      "id": "86181ac6",
      "metadata": {
        "id": "86181ac6"
      },
      "source": [
        "TfidfVectorizer() usado abaixo, é uma classe da biblioteca scikit-learn usada para converter uma coleção de documentos de texto brutos em uma matriz de recursos TF-IDF.\n",
        "\n",
        "Aqui está uma explicação mais detalhada dos componentes:\n",
        "\n",
        "TF (Term Frequency): É a frequência de uma palavra em um documento. Se uma palavra ocorrer frequentemente em um documento, seu valor de term frequency será alto.\n",
        "\n",
        "IDF (Inverse Document Frequency): É o inverso da frequência de documentos que contêm a palavra específica. Se uma palavra ocorrer em muitos documentos, seu valor IDF será baixo; se ocorrer em poucos documentos, o valor será alto. Isso ajuda a dar mais peso às palavras que são mais exclusivas para um documento específico, ao mesmo tempo em que reduz o peso de palavras comuns (como \"o\", \"é\", \"em\", etc.) que não acrescentam muito valor informativo.\n",
        "\n",
        "A combinação de TF e IDF (TF-IDF) permite que as palavras sejam ponderadas de acordo com o quão importantes elas são para um documento específico em um conjunto de documentos.\n",
        "\n",
        "TfidfVectorizer() faz todo o processo de calcular TF, IDF e converter os documentos em uma matriz TF-IDF."
      ]
    },
    {
      "cell_type": "code",
      "execution_count": null,
      "id": "823b9349",
      "metadata": {
        "id": "823b9349"
      },
      "outputs": [],
      "source": [
        "# Cria o vetorizador\n",
        "vectorizer = TfidfVectorizer()"
      ]
    },
    {
      "cell_type": "code",
      "execution_count": null,
      "id": "c1a12133",
      "metadata": {
        "id": "c1a12133"
      },
      "outputs": [],
      "source": [
        "# Fit e Transform do vetorizador com dados de treino\n",
        "X_treino = vectorizer.fit_transform(X_treino)"
      ]
    },
    {
      "cell_type": "code",
      "execution_count": null,
      "id": "2dc4ea40-b806-46b3-9797-8f1f79840bec",
      "metadata": {
        "id": "2dc4ea40-b806-46b3-9797-8f1f79840bec",
        "tags": []
      },
      "outputs": [],
      "source": [
        "# Transform do vetorizador com dados de teste\n",
        "X_teste = vectorizer.transform(X_teste)"
      ]
    },
    {
      "cell_type": "code",
      "execution_count": null,
      "id": "b865b8a1-e3eb-47b1-80ce-37418e5acb20",
      "metadata": {
        "colab": {
          "base_uri": "https://localhost:8080/"
        },
        "id": "b865b8a1-e3eb-47b1-80ce-37418e5acb20",
        "outputId": "de0f7b34-4226-4d9c-f9ff-456352d0d9a0",
        "tags": []
      },
      "outputs": [
        {
          "data": {
            "text/plain": [
              "array(['00', '000001', '000003', ..., 'zzip', 'zzkx', 'ã½'], dtype=object)"
            ]
          },
          "execution_count": 17,
          "metadata": {},
          "output_type": "execute_result"
        }
      ],
      "source": [
        "vectorizer.get_feature_names_out()"
      ]
    },
    {
      "cell_type": "code",
      "execution_count": null,
      "id": "daf9da29-777f-469a-9a54-678f3bb6b7a8",
      "metadata": {
        "colab": {
          "base_uri": "https://localhost:8080/"
        },
        "id": "daf9da29-777f-469a-9a54-678f3bb6b7a8",
        "outputId": "5561baa1-9bed-4615-98b9-73aaf37588d2",
        "tags": []
      },
      "outputs": [
        {
          "data": {
            "text/plain": [
              "array([[0., 0., 0., ..., 0., 0., 0.],\n",
              "       [0., 0., 0., ..., 0., 0., 0.],\n",
              "       [0., 0., 0., ..., 0., 0., 0.],\n",
              "       ...,\n",
              "       [0., 0., 0., ..., 0., 0., 0.],\n",
              "       [0., 0., 0., ..., 0., 0., 0.],\n",
              "       [0., 0., 0., ..., 0., 0., 0.]])"
            ]
          },
          "execution_count": 18,
          "metadata": {},
          "output_type": "execute_result"
        }
      ],
      "source": [
        "# Array de treino\n",
        "X_treino.toarray()"
      ]
    },
    {
      "cell_type": "code",
      "execution_count": null,
      "id": "d4898e35-b8dd-47b5-8984-217e04089e0e",
      "metadata": {
        "colab": {
          "base_uri": "https://localhost:8080/"
        },
        "id": "d4898e35-b8dd-47b5-8984-217e04089e0e",
        "outputId": "bf6884aa-16bd-47bb-fd06-3669f2957ab1",
        "tags": []
      },
      "outputs": [
        {
          "data": {
            "text/plain": [
              "array([[0., 0., 0., ..., 0., 0., 0.],\n",
              "       [0., 0., 0., ..., 0., 0., 0.],\n",
              "       [0., 0., 0., ..., 0., 0., 0.],\n",
              "       ...,\n",
              "       [0., 0., 0., ..., 0., 0., 0.],\n",
              "       [0., 0., 0., ..., 0., 0., 0.],\n",
              "       [0., 0., 0., ..., 0., 0., 0.]])"
            ]
          },
          "execution_count": 19,
          "metadata": {},
          "output_type": "execute_result"
        }
      ],
      "source": [
        "# Array de teste\n",
        "X_teste.toarray()"
      ]
    },
    {
      "cell_type": "markdown",
      "id": "9eefda4a-fb74-4ec6-8b14-73548a642c1a",
      "metadata": {
        "id": "9eefda4a-fb74-4ec6-8b14-73548a642c1a",
        "tags": []
      },
      "source": [
        "## Modelagem Preditiva\n",
        "\n",
        "Vamos construir 6 versões do modelo de Machine Learning usando 6 diferentes algoritmos. Ao final, vamos compará-las e então selecionar a melhor versão do modelo."
      ]
    },
    {
      "cell_type": "markdown",
      "id": "7410a969",
      "metadata": {
        "id": "7410a969"
      },
      "source": [
        "#### Fórmulas das Métricas de Avaliação dos Modelos:\n",
        "\n",
        "> accuracy = (TP + TN) / (TP + TN + FP + FN)\n",
        "\n",
        "> Precision = TP / (TP + FP)\n",
        "\n",
        "> Recall = TP / (TP + FN)\n",
        "\n",
        "> F1-score = 2 * (Precision * Recall) / (Precision + Recall)"
      ]
    },
    {
      "cell_type": "code",
      "execution_count": null,
      "id": "78e67f24",
      "metadata": {
        "id": "78e67f24"
      },
      "outputs": [],
      "source": [
        "# Função de cálculo das métricas\n",
        "def avalia_modelo(model_pred, model_name:str, y_test = y_teste):\n",
        "\n",
        "    confusion = confusion_matrix(y_test, model_pred)\n",
        "\n",
        "    TP = confusion[1,1] # true positive\n",
        "    TN = confusion[0,0] # true negative\n",
        "    FP = confusion[1,0] # false positive\n",
        "    FN = confusion[0,1] # false negative\n",
        "\n",
        "    accuracy = (TP + TN) / (TP + TN + FP + FN)\n",
        "    precision = TP / (TP + FP)\n",
        "    recall = TP / (TP + FN)\n",
        "    f1_score = 2 * (precision * recall) / (precision + recall)\n",
        "\n",
        "    print(f\"Avaliação do Modelo de {model_name}\")\n",
        "    print(\"--------------------------------------\")\n",
        "    print(f\"Accuracy: {accuracy}\")\n",
        "    print(f\"Precision: {precision}\")\n",
        "    print(f\"Recall: {recall}\")\n",
        "    print(f\"F1-score: {f1_score}\")\n",
        "    print(\"--------------------------------------\")"
      ]
    },
    {
      "cell_type": "markdown",
      "id": "bb6468f0",
      "metadata": {
        "id": "bb6468f0"
      },
      "source": [
        "### Versão 1 do Modelo - Regressão Logística\n",
        "\n",
        "A regressão logística é um algoritmo de aprendizado supervisionado usado para problemas de classificação. É um algoritmo estatístico que visa prever a probabilidade de um evento ocorrer, dada uma série de variáveis de entrada, produzindo um valor entre 0 e 1.\n",
        "\n",
        "Aqui estão alguns pontos-chave sobre a regressão logística:\n",
        "\n",
        "Classificação binária: A regressão logística é usada principalmente para classificação binária, onde o resultado alvo tem dois possíveis estados (como 0/1, verdadeiro/falso, sucesso/falha). No entanto, também pode ser adaptada para problemas de classificação multiclasse.\n",
        "\n",
        "Probabilidade de evento: A regressão logística estima a probabilidade de uma instância específica pertencer a uma classe específica.\n",
        "\n",
        "Função logística: A regressão logística usa uma função logística para transformar sua saída e garantir que ela esteja entre 0 e 1. Isso é feito aplicando a função logística (também conhecida como função sigmóide) à combinação linear das características de entrada.\n",
        "\n",
        "Estimação de coeficientes: O algoritmo usa o método de máxima verossimilhança para estimar os coeficientes que maximizam a probabilidade dos dados observados.\n",
        "\n",
        "Interpretabilidade: Os coeficientes em uma regressão logística podem ser interpretados em termos de chances (odds ratios), o que torna este método útil em campos como medicina e ciências sociais.\n",
        "\n",
        "Regularização: A regressão logística pode incluir a regularização L1 (Lasso) ou L2 (Ridge) para ajudar a prevenir o sobreajuste, tornando alguns coeficientes de características zero (Lasso) ou reduzindo a magnitude dos coeficientes (Ridge).\n",
        "\n",
        "Limitações: A regressão logística assume que há uma relação linear entre as características de entrada e o logaritmo da chance. Se essa suposição não for verdadeira, o modelo pode ter um desempenho ruim. Além disso, a regressão logística pode não funcionar bem quando as características de entrada são altamente correlacionadas ou quando há interações complexas entre as características."
      ]
    },
    {
      "cell_type": "code",
      "execution_count": null,
      "id": "bc4039b7",
      "metadata": {
        "id": "bc4039b7"
      },
      "outputs": [],
      "source": [
        "# Versão 1 do Modelo - Regressão Logística\n",
        "\n",
        "# Cria o modelo\n",
        "modelo_v1_lr = LogisticRegression()\n",
        "\n",
        "# Treina o modelo\n",
        "modelo_v1_lr.fit(X_treino, y_treino)\n",
        "\n",
        "# Faz previsões com o modelo\n",
        "v1_lr_pred = modelo_v1_lr.predict(X_teste)"
      ]
    },
    {
      "cell_type": "code",
      "execution_count": null,
      "id": "80fc99db",
      "metadata": {
        "colab": {
          "base_uri": "https://localhost:8080/"
        },
        "id": "80fc99db",
        "outputId": "2da2583c-6248-45c5-e81f-f653e82b0bb5"
      },
      "outputs": [
        {
          "name": "stdout",
          "output_type": "stream",
          "text": [
            "Avaliação do Modelo de Regressão Logística\n",
            "--------------------------------------\n",
            "Accuracy: 0.97239296883425\n",
            "Precision: 0.9376430205949656\n",
            "Recall: 0.98854041013269\n",
            "F1-score: 0.9624192601291838\n",
            "--------------------------------------\n"
          ]
        }
      ],
      "source": [
        "# Executa a função de avaliação\n",
        "avalia_modelo(v1_lr_pred, \"Regressão Logística\")"
      ]
    },
    {
      "cell_type": "markdown",
      "id": "5ff572b9",
      "metadata": {
        "id": "5ff572b9"
      },
      "source": [
        "### Versão 2 do Modelo - Árvore de Decisão\n",
        "\n",
        "Uma árvore de decisão é um algoritmo de aprendizado supervisionado usado tanto para problemas de classificação quanto de regressão. Ela funciona dividindo os dados em subconjuntos com base em diferentes valores de atributos. Isso é realizado através de uma estrutura de árvore hierárquica que modela decisões e suas possíveis consequências.\n",
        "\n",
        "Aqui estão alguns pontos-chave sobre árvores de decisão:\n",
        "\n",
        "Divisões baseadas em atributos: Uma árvore de decisão faz divisões binárias nos dados. Cada nó na árvore representa uma decisão baseada em um atributo, dividindo os dados em dois ramos com base nessa decisão.\n",
        "\n",
        "Folhas representam previsões: As folhas da árvore representam as previsões, que são a média do valor alvo (em caso de regressão) ou a classe mais comum (em caso de classificação) dos exemplos naquela folha.\n",
        "\n",
        "Estrutura de árvore: As árvores de decisão são fáceis de entender e visualizar, já que podem ser desenhadas como uma árvore e seguidas desde a raiz até uma folha para fazer uma previsão.\n",
        "\n",
        "Importância do atributo: As árvores de decisão fornecem insights sobre a importância dos atributos, uma vez que os atributos usados nas divisões superiores da árvore contribuem mais para a decisão final do que os utilizados mais abaixo na árvore.\n",
        "\n",
        "Não linear: As árvores de decisão podem modelar relacionamentos não lineares e interações entre atributos.\n",
        "\n",
        "Sobreajuste: As árvores de decisão são propensas ao sobreajuste, especialmente se a árvore for permitida a crescer de maneira irrestrita. Isso pode ser controlado por meio de técnicas como poda, definindo a profundidade máxima da árvore ou definindo o número mínimo de amostras por folha.\n",
        "\n",
        "Insensível à escala: As árvores de decisão não exigem que os dados sejam normalizados ou escalonados e são insensíveis à distribuição dos dados.\n",
        "\n",
        "Limitações: As árvores de decisão podem ser instáveis, ou seja, pequenas mudanças nos dados podem resultar em árvores de decisão significativamente diferentes. Além disso, elas podem ter um desempenho ruim se a fronteira de decisão é diagonal ou envolve combinações complexas de atributos."
      ]
    },
    {
      "cell_type": "code",
      "execution_count": null,
      "id": "5def03fa-44f8-4148-a836-0604699465e6",
      "metadata": {
        "id": "5def03fa-44f8-4148-a836-0604699465e6",
        "tags": []
      },
      "outputs": [],
      "source": [
        "# Versão 2 do Modelo - Árvore de Decisão\n",
        "\n",
        "# Cria o modelo\n",
        "modelo_v2_dt = DecisionTreeClassifier()\n",
        "\n",
        "# Treina o modelo\n",
        "modelo_v2_dt.fit(X_treino, y_treino)\n",
        "\n",
        "# Faz previsões com o modelo\n",
        "v2_dt_pred = modelo_v2_dt.predict(X_teste)"
      ]
    },
    {
      "cell_type": "code",
      "execution_count": null,
      "id": "c5735f14",
      "metadata": {
        "colab": {
          "base_uri": "https://localhost:8080/"
        },
        "id": "c5735f14",
        "outputId": "e86c1ac7-ed0d-4908-9d30-f4f3bd07d32e"
      },
      "outputs": [
        {
          "name": "stdout",
          "output_type": "stream",
          "text": [
            "Avaliação do Modelo de Árvore de Decisão\n",
            "--------------------------------------\n",
            "Accuracy: 0.7878787878787878\n",
            "Precision: 0.9445080091533181\n",
            "Recall: 0.6506403940886699\n",
            "F1-score: 0.770505191926263\n",
            "--------------------------------------\n"
          ]
        }
      ],
      "source": [
        "# Executa a função de avaliação\n",
        "avalia_modelo(v2_dt_pred, \"Árvore de Decisão\")"
      ]
    },
    {
      "cell_type": "markdown",
      "id": "92be5b39",
      "metadata": {
        "id": "92be5b39"
      },
      "source": [
        "### Versão 3 do Modelo - Random Forest\n",
        "\n",
        "Random Forest é um algoritmo de aprendizado de máquina supervisionado utilizado tanto para tarefas de classificação quanto de regressão. Ele é conhecido como um \"ensemble learning method\", pois combina várias árvores de decisão para produzir uma previsão mais precisa e robusta.\n",
        "\n",
        "Aqui estão alguns pontos-chave sobre Random Forest:\n",
        "\n",
        "Ensemble de Árvores de Decisão: Um Random Forest é composto por um conjunto (ou \"floresta\") de árvores de decisão individuais, cada uma treinada em uma amostra aleatória dos dados. A amostra é selecionada com substituição, um processo conhecido como \"bootstrap\".\n",
        "\n",
        "Diversidade através de Randomização: Cada árvore na floresta é única através do uso de seleção aleatória de recursos para cada divisão ao construir a árvore. Isso cria diversidade nas árvores e ajuda a evitar o sobreajuste.\n",
        "\n",
        "Votação de árvores: Para fazer uma previsão, o Random Forest faz com que cada uma de suas árvores de decisão faça uma previsão individualmente. No caso da classificação, a classe que recebe a maioria dos votos é a previsão do Random Forest. No caso da regressão, a média das previsões das árvores é tomada.\n",
        "\n",
        "Avaliação do desempenho: O Random Forest tem uma maneira incorporada de avaliar seu desempenho chamada \"out-of-bag\" (OOB) score. Cada árvore é treinada em uma amostra bootstrap dos dados e a previsão é testada nas observações não incluídas nessa amostra (o \"out-of-bag\" sample).\n",
        "\n",
        "Importância do recurso: Random Forest é capaz de medir a importância dos recursos observando quanto a perda de precisão ocorre quando os valores de um recurso são permutados aleatoriamente. Recursos mais importantes resultarão em uma maior perda de precisão.\n",
        "\n",
        "Modelagem não linear e interações: Random Forest é capaz de modelar relacionamentos não lineares e capturar interações entre recursos.\n",
        "\n",
        "Robustez e facilidade de uso: Random Forest é conhecido por sua robustez e geralmente produz bons resultados, mesmo sem a sintonização fina de parâmetros. Ele também lida bem com dados faltantes e não é muito afetado por outliers.\n",
        "\n",
        "Limitações: Random Forest pode ser computacionalmente intensivo e lento para prever se o número de árvores é grande. Além disso, enquanto Random Forest é capaz de lidar com dados categóricos, ele pode ter dificuldade com categorias com muitos níveis.\n",
        "\n"
      ]
    },
    {
      "cell_type": "code",
      "execution_count": null,
      "id": "517d9b23-8105-4b71-8b86-27b2fcca427d",
      "metadata": {
        "id": "517d9b23-8105-4b71-8b86-27b2fcca427d",
        "tags": []
      },
      "outputs": [],
      "source": [
        "# Versão 3 do Modelo - RandomForest\n",
        "\n",
        "# Cria o modelo\n",
        "modelo_v3_rf = RandomForestClassifier()\n",
        "\n",
        "# Treina o modelo\n",
        "modelo_v3_rf.fit(X_treino, y_treino)\n",
        "\n",
        "# Faz previsões com o modelo\n",
        "v3_rf_pred = modelo_v3_rf.predict(X_teste)"
      ]
    },
    {
      "cell_type": "code",
      "execution_count": null,
      "id": "c4a0e0d5",
      "metadata": {
        "colab": {
          "base_uri": "https://localhost:8080/"
        },
        "id": "c4a0e0d5",
        "outputId": "c343cfac-df4c-46c3-8e97-3b51906ebd13"
      },
      "outputs": [
        {
          "name": "stdout",
          "output_type": "stream",
          "text": [
            "Avaliação do Modelo de Random Forest\n",
            "--------------------------------------\n",
            "Accuracy: 0.8013587835651893\n",
            "Precision: 0.9945652173913043\n",
            "Recall: 0.6560377358490566\n",
            "F1-score: 0.7905866302864938\n",
            "--------------------------------------\n"
          ]
        }
      ],
      "source": [
        "# Executa a função de avaliação\n",
        "avalia_modelo(v3_rf_pred, \"Random Forest\")"
      ]
    },
    {
      "cell_type": "markdown",
      "id": "b6350522",
      "metadata": {
        "id": "b6350522"
      },
      "source": [
        "### Versão 4 do Modelo - Support Vector Machines\n",
        "\n",
        "As Máquinas de Vetores de Suporte (Support Vector Machines, SVM) são um conjunto de métodos de aprendizado supervisionado usados para classificação e regressão. Em particular, eles são altamente eficazes em problemas de classificação binária. O principal objetivo do SVM é encontrar um hiperplano de separação ótimo que maximiza a margem entre as classes em um espaço de recursos.\n",
        "\n",
        "Aqui estão alguns pontos-chave sobre o SVM:\n",
        "\n",
        "Hiperplano de separação: O SVM busca um hiperplano que separa as classes de dados com a maior margem possível. O hiperplano é escolhido para maximizar a distância dos exemplos de treinamento mais próximos de cada classe, conhecidos como \"vetores de suporte\".\n",
        "\n",
        "Maximização da Margem: O objetivo de maximizar a margem proporciona alguma robustez à classificação e ajuda a prevenir o sobreajuste, fazendo do SVM um classificador robusto.\n",
        "\n",
        "Kernel Trick: Para dados que não são linearmente separáveis, o SVM usa uma técnica conhecida como \"kernel trick\" para projetar os dados em um espaço de maior dimensão onde eles se tornam linearmente separáveis. Isso permite que o SVM modele relações complexas e não lineares.\n",
        "\n",
        "Classificação e Regressão: Embora o SVM seja mais conhecido por classificação, ele também pode ser usado para regressão (Support Vector Regression, SVR) e outras tarefas, como detecção de outliers.\n",
        "\n",
        "Regularização: O SVM inclui um parâmetro de regularização 'C' que permite ao usuário especificar a quantidade de erros de classificação e a largura da margem, ajudando a evitar o sobreajuste.\n",
        "\n",
        "Limitações: As SVMs podem ser sensíveis à escolha do kernel e aos parâmetros do kernel. Além disso, elas podem ser computacionalmente intensivas e menos escaláveis para conjuntos de dados de grande dimensão ou com grande quantidade de recursos. SVMs também fornecem previsões binárias em vez de probabilidades.\n",
        "\n",
        "Necessidade de Pré-processamento: Os dados para SVM precisam ser pré-processados, pois o algoritmo é sensível à escala das características. Normalmente, os dados são normalizados antes de serem usados no SVM."
      ]
    },
    {
      "cell_type": "code",
      "execution_count": null,
      "id": "45727de4-442f-4b4a-8b8e-6341422895f3",
      "metadata": {
        "id": "45727de4-442f-4b4a-8b8e-6341422895f3",
        "tags": []
      },
      "outputs": [],
      "source": [
        "# Versão 4 do Modelo - Support Vector Machines\n",
        "\n",
        "# Cria o modelo\n",
        "modelo_v4_svm = SVC()\n",
        "\n",
        "# Treina o modelo\n",
        "modelo_v4_svm.fit(X_treino, y_treino)\n",
        "\n",
        "# Faz previsões com o modelo\n",
        "v4_svm_pred = modelo_v4_svm.predict(X_teste)"
      ]
    },
    {
      "cell_type": "code",
      "execution_count": null,
      "id": "56648ae2",
      "metadata": {
        "colab": {
          "base_uri": "https://localhost:8080/"
        },
        "id": "56648ae2",
        "outputId": "7d6218a7-2b96-4871-c5b9-1a8e7ee3ddae"
      },
      "outputs": [
        {
          "name": "stdout",
          "output_type": "stream",
          "text": [
            "Avaliação do Modelo de Support Vector Machines\n",
            "--------------------------------------\n",
            "Accuracy: 0.8208778173190985\n",
            "Precision: 0.9711098398169337\n",
            "Recall: 0.6851664984863775\n",
            "F1-score: 0.8034552124008992\n",
            "--------------------------------------\n"
          ]
        }
      ],
      "source": [
        "# Executa a função de avaliação\n",
        "avalia_modelo(v4_svm_pred, \"Support Vector Machines\")"
      ]
    },
    {
      "cell_type": "markdown",
      "id": "3d0d2398",
      "metadata": {
        "id": "3d0d2398"
      },
      "source": [
        "### Versão 5 do Modelo - Multinomial Naive Bayes\n",
        "\n",
        "Multinomial Naive Bayes é um algoritmo de aprendizado de máquina supervisionado baseado na aplicação do teorema de Bayes com a suposição de \"naividade\", ou seja, supondo independência entre cada par de recursos. Esta variante do Naive Bayes é mais adequada para dados que podem ser facilmente transformados em contagens, como contagens de palavras em textos.\n",
        "\n",
        "Aqui estão alguns pontos-chave sobre o Multinomial Naive Bayes:\n",
        "\n",
        "Teorema de Bayes: A base do Multinomial Naive Bayes é o teorema de Bayes, que descreve a probabilidade de um evento com base em conhecimentos anteriores relevantes.\n",
        "\n",
        "Independência de recursos: O Naive Bayes assume que todos os recursos são mutuamente independentes. Na prática, essa suposição raramente é válida, mas o algoritmo ainda tende a funcionar bem.\n",
        "\n",
        "Dados de contagem: Multinomial Naive Bayes é particularmente útil para dados que representam contagens ou frequências, como contagem de palavras em documentos de texto.\n",
        "\n",
        "Aprendizado e previsão rápidos: Devido à sua simplicidade e suposição de independência de recursos, o Multinomial Naive Bayes é rápido para treinar e fazer previsões.\n",
        "\n",
        "Uso comum em classificação de texto: Um uso comum do Multinomial Naive Bayes é na classificação de texto, onde os recursos são palavras e os dados são contagens ou frequências dessas palavras em documentos.\n",
        "\n",
        "Suavização de Laplace: Para lidar com recursos que não aparecem no conjunto de treinamento e evitar probabilidades zero, o Multinomial Naive Bayes usa uma técnica conhecida como suavização de Laplace ou adição de um.\n",
        "\n",
        "Limitações: Embora seja rápido e frequentemente surpreendentemente preciso, o Multinomial Naive Bayes pode ser superado por modelos mais complexos em tarefas que violam fortemente a suposição de independência de recursos. Além disso, não funciona bem com contagens de recursos muito grandes ou contínuas.\n"
      ]
    },
    {
      "cell_type": "code",
      "execution_count": null,
      "id": "3bdfde0d-77fb-4ed9-b459-d39aa8af5277",
      "metadata": {
        "id": "3bdfde0d-77fb-4ed9-b459-d39aa8af5277",
        "tags": []
      },
      "outputs": [],
      "source": [
        "# Versão 5 do Modelo - Multinomial Naive Bayes\n",
        "\n",
        "# Cria o modelo\n",
        "modelo_v5_nb = MultinomialNB()\n",
        "\n",
        "# Treina o modelo\n",
        "modelo_v5_nb.fit(X_treino, y_treino)\n",
        "\n",
        "# Faz previsões com o modelo\n",
        "v5_nb_pred = modelo_v5_nb.predict(X_teste)"
      ]
    },
    {
      "cell_type": "code",
      "execution_count": null,
      "id": "2fbd77e5",
      "metadata": {
        "colab": {
          "base_uri": "https://localhost:8080/"
        },
        "id": "2fbd77e5",
        "outputId": "9d633cb6-2532-42db-e043-adbeff748f5e"
      },
      "outputs": [
        {
          "name": "stdout",
          "output_type": "stream",
          "text": [
            "Avaliação do Modelo de Multinomial Naive Bayes\n",
            "--------------------------------------\n",
            "Accuracy: 0.9682950501455839\n",
            "Precision: 0.9407894736842105\n",
            "Recall: 0.9742298578199052\n",
            "F1-score: 0.9572176949941793\n",
            "--------------------------------------\n"
          ]
        }
      ],
      "source": [
        "# Executa a função de avaliação\n",
        "avalia_modelo(v5_nb_pred, \"Multinomial Naive Bayes\")"
      ]
    },
    {
      "cell_type": "markdown",
      "id": "89e202e3",
      "metadata": {
        "id": "89e202e3"
      },
      "source": [
        "### Versão 6 do Modelo - Gradient Boosting\n",
        "\n",
        "O Gradient Boosting é um poderoso algoritmo de aprendizado de máquina supervisionado usado principalmente para tarefas de regressão e classificação. É um método de \"ensemble learning\" que constrói um modelo preditivo de maneira aditiva e iterativa, buscando reduzir continuamente o erro residual da previsão.\n",
        "\n",
        "Aqui estão alguns pontos-chave sobre o Gradient Boosting:\n",
        "\n",
        "Ensemble de Aprendizes Fracos: O Gradient Boosting constrói um conjunto de \"aprendizes fracos\" (geralmente árvores de decisão), onde cada aprendiz é treinado para corrigir os erros feitos pelos aprendizes anteriores.\n",
        "\n",
        "Modelo Aditivo: Cada novo aprendiz é adicionado ao modelo de forma a minimizar a função de perda global. A ideia é que, à medida que mais e mais aprendizes são adicionados, o modelo se torna cada vez mais preciso.\n",
        "\n",
        "Descida de Gradiente: A técnica de otimização usada para minimizar a função de perda é a descida de gradiente, daí o nome \"Gradient Boosting\". Basicamente, em cada etapa, o algoritmo ajusta o modelo na direção que reduzirá mais rapidamente a função de perda.\n",
        "\n",
        "Regularização: O Gradient Boosting inclui vários mecanismos de regularização para prevenir o sobreajuste, como a adição de uma penalidade de complexidade de modelo no critério de otimização e o uso de uma taxa de aprendizado (também conhecida como \"shrinkage\" ou \"learning rate\").\n",
        "\n",
        "Manipulação de Dados Variados: O Gradient Boosting pode manipular dados com características mistas (numéricas e categóricas) e não é afetado por características irrelevantes ou escalas de características variadas.\n",
        "\n",
        "Performance: O Gradient Boosting é conhecido por sua alta performance e é frequentemente o algoritmo de escolha em competições de aprendizado de máquina.\n",
        "\n",
        "Desvantagens: A principal desvantagem do Gradient Boosting é que ele pode ser computacionalmente intensivo e requer cuidadosa sintonia dos hiperparâmetros. Além disso, devido à sua natureza sequencial, pode ser mais difícil de paralelizar do que outros algoritmos de \"ensemble learning\", como o Random Forest."
      ]
    },
    {
      "cell_type": "code",
      "execution_count": null,
      "id": "56cfbc9b",
      "metadata": {
        "id": "56cfbc9b"
      },
      "outputs": [],
      "source": [
        "# Versão 6 do Modelo - Gradient Boosting\n",
        "\n",
        "# Cria o modelo\n",
        "modelo_v6_gb = GradientBoostingClassifier(n_estimators = 20,\n",
        "                                          learning_rate = 0.8,\n",
        "                                          max_features = 2,\n",
        "                                          max_depth = 2,\n",
        "                                          random_state = 0)\n",
        "\n",
        "# Treina o modelo\n",
        "modelo_v6_gb.fit(X_treino, y_treino)\n",
        "\n",
        "# Faz previsões com o modelo\n",
        "v6_gb_pred = modelo_v6_gb.predict(X_teste)"
      ]
    },
    {
      "cell_type": "code",
      "execution_count": null,
      "id": "52a21567",
      "metadata": {
        "colab": {
          "base_uri": "https://localhost:8080/"
        },
        "id": "52a21567",
        "outputId": "e147130f-48ab-497b-fc47-0ebe29f924a8"
      },
      "outputs": [
        {
          "name": "stdout",
          "output_type": "stream",
          "text": [
            "Avaliação do Modelo de Gradient Boosting\n",
            "--------------------------------------\n",
            "Accuracy: 0.6267658794349186\n",
            "Precision: 0.010297482837528604\n",
            "Recall: 0.972972972972973\n",
            "F1-score: 0.020379281064251343\n",
            "--------------------------------------\n"
          ]
        }
      ],
      "source": [
        "# Executa a função de avaliação\n",
        "avalia_modelo(v6_gb_pred, \"Gradient Boosting\")"
      ]
    },
    {
      "cell_type": "markdown",
      "id": "7564e70c-3112-4e5f-a218-2e6cb2cd00e1",
      "metadata": {
        "id": "7564e70c-3112-4e5f-a218-2e6cb2cd00e1",
        "tags": []
      },
      "source": [
        "## Comparação e Seleção do Melhor Modelo"
      ]
    },
    {
      "cell_type": "code",
      "execution_count": null,
      "id": "bff75b91",
      "metadata": {
        "id": "bff75b91"
      },
      "outputs": [],
      "source": [
        "# Dicionários para as métricas\n",
        "f1_dict = {}\n",
        "precision_dict = {}\n",
        "recall_dict = {}\n",
        "accuracy_dict = {}"
      ]
    },
    {
      "cell_type": "code",
      "execution_count": null,
      "id": "f43f926c",
      "metadata": {
        "id": "f43f926c"
      },
      "outputs": [],
      "source": [
        "# Atualiza o dicionário de métricas\n",
        "\n",
        "f1_dict[\"LogisticRegression\"] = f1_score(v1_lr_pred, y_teste)\n",
        "precision_dict[\"LogisticRegression\"] = precision_score(v1_lr_pred, y_teste)\n",
        "recall_dict[\"LogisticRegression\"] = recall_score(v1_lr_pred, y_teste)\n",
        "accuracy_dict['LogisticRegression'] = accuracy_score(v1_lr_pred, y_teste)\n",
        "\n",
        "f1_dict[\"DecisionTree\"] = f1_score(v2_dt_pred, y_teste)\n",
        "precision_dict[\"DecisionTree\"] = precision_score(v2_dt_pred, y_teste)\n",
        "recall_dict[\"DecisionTree\"] = recall_score(v2_dt_pred, y_teste)\n",
        "accuracy_dict['DecisionTree'] = accuracy_score(v2_dt_pred, y_teste)\n",
        "\n",
        "f1_dict[\"RandomForest\"] = f1_score(v3_rf_pred, y_teste)\n",
        "precision_dict[\"RandomForest\"] = precision_score(v3_rf_pred, y_teste)\n",
        "recall_dict[\"RandomForest\"] = recall_score(v3_rf_pred, y_teste)\n",
        "accuracy_dict['RandomForest'] = accuracy_score(v3_rf_pred, y_teste)\n",
        "\n",
        "f1_dict[\"SVM\"] = f1_score(v4_svm_pred, y_teste)\n",
        "precision_dict[\"SVM\"] = precision_score(v4_svm_pred, y_teste)\n",
        "recall_dict[\"SVM\"] = recall_score(v4_svm_pred, y_teste)\n",
        "accuracy_dict['SVM'] = accuracy_score(v4_svm_pred, y_teste)\n",
        "\n",
        "f1_dict[\"NaiveBayes\"] = f1_score(v5_nb_pred, y_teste)\n",
        "precision_dict[\"NaiveBayes\"] = precision_score(v5_nb_pred, y_teste)\n",
        "recall_dict[\"NaiveBayes\"] = recall_score(v5_nb_pred, y_teste)\n",
        "accuracy_dict['NaiveBayes'] = accuracy_score(v5_nb_pred, y_teste)\n",
        "\n",
        "f1_dict[\"GradientBoosting\"] = f1_score(v6_gb_pred, y_teste)\n",
        "precision_dict[\"GradientBoosting\"] = precision_score(v6_gb_pred, y_teste)\n",
        "recall_dict[\"GradientBoosting\"] = recall_score(v6_gb_pred, y_teste)\n",
        "accuracy_dict['GradientBoosting'] = accuracy_score(v6_gb_pred, y_teste)"
      ]
    },
    {
      "cell_type": "code",
      "execution_count": null,
      "id": "7407a284",
      "metadata": {
        "colab": {
          "base_uri": "https://localhost:8080/",
          "height": 175
        },
        "id": "7407a284",
        "outputId": "ffeb2f77-eb3a-4355-b721-59d2cf49d509"
      },
      "outputs": [
        {
          "data": {
            "text/html": [
              "\n",
              "  <div id=\"df-e8b9fb8e-7d28-4f1f-ab53-a30ca1e99942\" class=\"colab-df-container\">\n",
              "    <div>\n",
              "<style scoped>\n",
              "    .dataframe tbody tr th:only-of-type {\n",
              "        vertical-align: middle;\n",
              "    }\n",
              "\n",
              "    .dataframe tbody tr th {\n",
              "        vertical-align: top;\n",
              "    }\n",
              "\n",
              "    .dataframe thead th {\n",
              "        text-align: right;\n",
              "    }\n",
              "</style>\n",
              "<table border=\"1\" class=\"dataframe\">\n",
              "  <thead>\n",
              "    <tr style=\"text-align: right;\">\n",
              "      <th></th>\n",
              "      <th>LogisticRegression</th>\n",
              "      <th>DecisionTree</th>\n",
              "      <th>RandomForest</th>\n",
              "      <th>SVM</th>\n",
              "      <th>NaiveBayes</th>\n",
              "      <th>GradientBoosting</th>\n",
              "    </tr>\n",
              "  </thead>\n",
              "  <tbody>\n",
              "    <tr>\n",
              "      <th>F1_Score</th>\n",
              "      <td>0.962419</td>\n",
              "      <td>0.770505</td>\n",
              "      <td>0.790587</td>\n",
              "      <td>0.803455</td>\n",
              "      <td>0.957218</td>\n",
              "      <td>0.020379</td>\n",
              "    </tr>\n",
              "    <tr>\n",
              "      <th>Precision</th>\n",
              "      <td>0.937643</td>\n",
              "      <td>0.944508</td>\n",
              "      <td>0.994565</td>\n",
              "      <td>0.971110</td>\n",
              "      <td>0.940789</td>\n",
              "      <td>0.010297</td>\n",
              "    </tr>\n",
              "    <tr>\n",
              "      <th>Recall</th>\n",
              "      <td>0.988540</td>\n",
              "      <td>0.650640</td>\n",
              "      <td>0.656038</td>\n",
              "      <td>0.685166</td>\n",
              "      <td>0.974230</td>\n",
              "      <td>0.972973</td>\n",
              "    </tr>\n",
              "    <tr>\n",
              "      <th>Accuracy</th>\n",
              "      <td>0.972393</td>\n",
              "      <td>0.787879</td>\n",
              "      <td>0.801359</td>\n",
              "      <td>0.820878</td>\n",
              "      <td>0.968295</td>\n",
              "      <td>0.626766</td>\n",
              "    </tr>\n",
              "  </tbody>\n",
              "</table>\n",
              "</div>\n",
              "    <div class=\"colab-df-buttons\">\n",
              "\n",
              "  <div class=\"colab-df-container\">\n",
              "    <button class=\"colab-df-convert\" onclick=\"convertToInteractive('df-e8b9fb8e-7d28-4f1f-ab53-a30ca1e99942')\"\n",
              "            title=\"Convert this dataframe to an interactive table.\"\n",
              "            style=\"display:none;\">\n",
              "\n",
              "  <svg xmlns=\"http://www.w3.org/2000/svg\" height=\"24px\" viewBox=\"0 -960 960 960\">\n",
              "    <path d=\"M120-120v-720h720v720H120Zm60-500h600v-160H180v160Zm220 220h160v-160H400v160Zm0 220h160v-160H400v160ZM180-400h160v-160H180v160Zm440 0h160v-160H620v160ZM180-180h160v-160H180v160Zm440 0h160v-160H620v160Z\"/>\n",
              "  </svg>\n",
              "    </button>\n",
              "\n",
              "  <style>\n",
              "    .colab-df-container {\n",
              "      display:flex;\n",
              "      gap: 12px;\n",
              "    }\n",
              "\n",
              "    .colab-df-convert {\n",
              "      background-color: #E8F0FE;\n",
              "      border: none;\n",
              "      border-radius: 50%;\n",
              "      cursor: pointer;\n",
              "      display: none;\n",
              "      fill: #1967D2;\n",
              "      height: 32px;\n",
              "      padding: 0 0 0 0;\n",
              "      width: 32px;\n",
              "    }\n",
              "\n",
              "    .colab-df-convert:hover {\n",
              "      background-color: #E2EBFA;\n",
              "      box-shadow: 0px 1px 2px rgba(60, 64, 67, 0.3), 0px 1px 3px 1px rgba(60, 64, 67, 0.15);\n",
              "      fill: #174EA6;\n",
              "    }\n",
              "\n",
              "    .colab-df-buttons div {\n",
              "      margin-bottom: 4px;\n",
              "    }\n",
              "\n",
              "    [theme=dark] .colab-df-convert {\n",
              "      background-color: #3B4455;\n",
              "      fill: #D2E3FC;\n",
              "    }\n",
              "\n",
              "    [theme=dark] .colab-df-convert:hover {\n",
              "      background-color: #434B5C;\n",
              "      box-shadow: 0px 1px 3px 1px rgba(0, 0, 0, 0.15);\n",
              "      filter: drop-shadow(0px 1px 2px rgba(0, 0, 0, 0.3));\n",
              "      fill: #FFFFFF;\n",
              "    }\n",
              "  </style>\n",
              "\n",
              "    <script>\n",
              "      const buttonEl =\n",
              "        document.querySelector('#df-e8b9fb8e-7d28-4f1f-ab53-a30ca1e99942 button.colab-df-convert');\n",
              "      buttonEl.style.display =\n",
              "        google.colab.kernel.accessAllowed ? 'block' : 'none';\n",
              "\n",
              "      async function convertToInteractive(key) {\n",
              "        const element = document.querySelector('#df-e8b9fb8e-7d28-4f1f-ab53-a30ca1e99942');\n",
              "        const dataTable =\n",
              "          await google.colab.kernel.invokeFunction('convertToInteractive',\n",
              "                                                    [key], {});\n",
              "        if (!dataTable) return;\n",
              "\n",
              "        const docLinkHtml = 'Like what you see? Visit the ' +\n",
              "          '<a target=\"_blank\" href=https://colab.research.google.com/notebooks/data_table.ipynb>data table notebook</a>'\n",
              "          + ' to learn more about interactive tables.';\n",
              "        element.innerHTML = '';\n",
              "        dataTable['output_type'] = 'display_data';\n",
              "        await google.colab.output.renderOutput(dataTable, element);\n",
              "        const docLink = document.createElement('div');\n",
              "        docLink.innerHTML = docLinkHtml;\n",
              "        element.appendChild(docLink);\n",
              "      }\n",
              "    </script>\n",
              "  </div>\n",
              "\n",
              "\n",
              "<div id=\"df-a37f0325-b735-4ca4-bce0-df034f6751b6\">\n",
              "  <button class=\"colab-df-quickchart\" onclick=\"quickchart('df-a37f0325-b735-4ca4-bce0-df034f6751b6')\"\n",
              "            title=\"Suggest charts\"\n",
              "            style=\"display:none;\">\n",
              "\n",
              "<svg xmlns=\"http://www.w3.org/2000/svg\" height=\"24px\"viewBox=\"0 0 24 24\"\n",
              "     width=\"24px\">\n",
              "    <g>\n",
              "        <path d=\"M19 3H5c-1.1 0-2 .9-2 2v14c0 1.1.9 2 2 2h14c1.1 0 2-.9 2-2V5c0-1.1-.9-2-2-2zM9 17H7v-7h2v7zm4 0h-2V7h2v10zm4 0h-2v-4h2v4z\"/>\n",
              "    </g>\n",
              "</svg>\n",
              "  </button>\n",
              "\n",
              "<style>\n",
              "  .colab-df-quickchart {\n",
              "      --bg-color: #E8F0FE;\n",
              "      --fill-color: #1967D2;\n",
              "      --hover-bg-color: #E2EBFA;\n",
              "      --hover-fill-color: #174EA6;\n",
              "      --disabled-fill-color: #AAA;\n",
              "      --disabled-bg-color: #DDD;\n",
              "  }\n",
              "\n",
              "  [theme=dark] .colab-df-quickchart {\n",
              "      --bg-color: #3B4455;\n",
              "      --fill-color: #D2E3FC;\n",
              "      --hover-bg-color: #434B5C;\n",
              "      --hover-fill-color: #FFFFFF;\n",
              "      --disabled-bg-color: #3B4455;\n",
              "      --disabled-fill-color: #666;\n",
              "  }\n",
              "\n",
              "  .colab-df-quickchart {\n",
              "    background-color: var(--bg-color);\n",
              "    border: none;\n",
              "    border-radius: 50%;\n",
              "    cursor: pointer;\n",
              "    display: none;\n",
              "    fill: var(--fill-color);\n",
              "    height: 32px;\n",
              "    padding: 0;\n",
              "    width: 32px;\n",
              "  }\n",
              "\n",
              "  .colab-df-quickchart:hover {\n",
              "    background-color: var(--hover-bg-color);\n",
              "    box-shadow: 0 1px 2px rgba(60, 64, 67, 0.3), 0 1px 3px 1px rgba(60, 64, 67, 0.15);\n",
              "    fill: var(--button-hover-fill-color);\n",
              "  }\n",
              "\n",
              "  .colab-df-quickchart-complete:disabled,\n",
              "  .colab-df-quickchart-complete:disabled:hover {\n",
              "    background-color: var(--disabled-bg-color);\n",
              "    fill: var(--disabled-fill-color);\n",
              "    box-shadow: none;\n",
              "  }\n",
              "\n",
              "  .colab-df-spinner {\n",
              "    border: 2px solid var(--fill-color);\n",
              "    border-color: transparent;\n",
              "    border-bottom-color: var(--fill-color);\n",
              "    animation:\n",
              "      spin 1s steps(1) infinite;\n",
              "  }\n",
              "\n",
              "  @keyframes spin {\n",
              "    0% {\n",
              "      border-color: transparent;\n",
              "      border-bottom-color: var(--fill-color);\n",
              "      border-left-color: var(--fill-color);\n",
              "    }\n",
              "    20% {\n",
              "      border-color: transparent;\n",
              "      border-left-color: var(--fill-color);\n",
              "      border-top-color: var(--fill-color);\n",
              "    }\n",
              "    30% {\n",
              "      border-color: transparent;\n",
              "      border-left-color: var(--fill-color);\n",
              "      border-top-color: var(--fill-color);\n",
              "      border-right-color: var(--fill-color);\n",
              "    }\n",
              "    40% {\n",
              "      border-color: transparent;\n",
              "      border-right-color: var(--fill-color);\n",
              "      border-top-color: var(--fill-color);\n",
              "    }\n",
              "    60% {\n",
              "      border-color: transparent;\n",
              "      border-right-color: var(--fill-color);\n",
              "    }\n",
              "    80% {\n",
              "      border-color: transparent;\n",
              "      border-right-color: var(--fill-color);\n",
              "      border-bottom-color: var(--fill-color);\n",
              "    }\n",
              "    90% {\n",
              "      border-color: transparent;\n",
              "      border-bottom-color: var(--fill-color);\n",
              "    }\n",
              "  }\n",
              "</style>\n",
              "\n",
              "  <script>\n",
              "    async function quickchart(key) {\n",
              "      const quickchartButtonEl =\n",
              "        document.querySelector('#' + key + ' button');\n",
              "      quickchartButtonEl.disabled = true;  // To prevent multiple clicks.\n",
              "      quickchartButtonEl.classList.add('colab-df-spinner');\n",
              "      try {\n",
              "        const charts = await google.colab.kernel.invokeFunction(\n",
              "            'suggestCharts', [key], {});\n",
              "      } catch (error) {\n",
              "        console.error('Error during call to suggestCharts:', error);\n",
              "      }\n",
              "      quickchartButtonEl.classList.remove('colab-df-spinner');\n",
              "      quickchartButtonEl.classList.add('colab-df-quickchart-complete');\n",
              "    }\n",
              "    (() => {\n",
              "      let quickchartButtonEl =\n",
              "        document.querySelector('#df-a37f0325-b735-4ca4-bce0-df034f6751b6 button');\n",
              "      quickchartButtonEl.style.display =\n",
              "        google.colab.kernel.accessAllowed ? 'block' : 'none';\n",
              "    })();\n",
              "  </script>\n",
              "</div>\n",
              "    </div>\n",
              "  </div>\n"
            ],
            "text/plain": [
              "           LogisticRegression  DecisionTree  RandomForest       SVM  \\\n",
              "F1_Score             0.962419      0.770505      0.790587  0.803455   \n",
              "Precision            0.937643      0.944508      0.994565  0.971110   \n",
              "Recall               0.988540      0.650640      0.656038  0.685166   \n",
              "Accuracy             0.972393      0.787879      0.801359  0.820878   \n",
              "\n",
              "           NaiveBayes  GradientBoosting  \n",
              "F1_Score     0.957218          0.020379  \n",
              "Precision    0.940789          0.010297  \n",
              "Recall       0.974230          0.972973  \n",
              "Accuracy     0.968295          0.626766  "
            ]
          },
          "execution_count": 35,
          "metadata": {},
          "output_type": "execute_result"
        }
      ],
      "source": [
        "# Os nomes das chaves serão os nomes dos dicionários\n",
        "chaves = f1_dict, precision_dict, recall_dict, accuracy_dict\n",
        "\n",
        "# Métricas\n",
        "metricas = ['F1_Score', 'Precision', 'Recall', 'Accuracy']\n",
        "\n",
        "# Dataframe\n",
        "tabela_metricas = pd.DataFrame(chaves)\n",
        "\n",
        "# Índice\n",
        "tabela_metricas.index = metricas\n",
        "\n",
        "# Tabela de métricas\n",
        "tabela_metricas"
      ]
    },
    {
      "cell_type": "code",
      "execution_count": null,
      "id": "df6a1f2d",
      "metadata": {
        "colab": {
          "base_uri": "https://localhost:8080/",
          "height": 592
        },
        "id": "df6a1f2d",
        "outputId": "893dbd97-f7ac-40a0-f04f-fc324dfa0838"
      },
      "outputs": [
        {
          "data": {
            "image/png": "[encoded data removed]",
            "text/plain": [
              "<Figure size 1500x700 with 1 Axes>"
            ]
          },
          "metadata": {},
          "output_type": "display_data"
        }
      ],
      "source": [
        "# Gráfico da tabela de métricas\n",
        "resultado = tabela_metricas.plot(kind = 'bar', rot = 0, figsize = (15, 7))\n",
        "resultado.legend(bbox_to_anchor = (1, 1.02), loc = 'upper left');"
      ]
    },
    {
      "cell_type": "code",
      "execution_count": null,
      "id": "d300b332",
      "metadata": {
        "id": "d300b332"
      },
      "outputs": [],
      "source": [
        "# Salva o vetorizador\n",
        "with open('modelos/vectorizer', 'wb') as fin:\n",
        "    pickle.dump(vectorizer, fin)"
      ]
    },
    {
      "cell_type": "code",
      "execution_count": null,
      "id": "6daabaf5-8297-4984-b800-d10565796dee",
      "metadata": {
        "id": "6daabaf5-8297-4984-b800-d10565796dee",
        "tags": []
      },
      "outputs": [],
      "source": [
        "# Salva o melhor modelo\n",
        "pickle.dump(modelo_v5_nb, open(\"modelos/naiveBaies.pkl\", \"wb\"))\n",
        "pickle.dump(modelo_v1_lr, open(\"modelos/logisticRegression.pkl\", \"wb\"))"
      ]
    },
    {
      "cell_type": "markdown",
      "id": "e593d711",
      "metadata": {
        "id": "e593d711"
      },
      "source": [
        "## Uso do Modelo em Novas Tentativas de Ataque SQL Injection"
      ]
    },
    {
      "cell_type": "code",
      "execution_count": null,
      "id": "8f2e0213",
      "metadata": {
        "id": "8f2e0213"
      },
      "outputs": [],
      "source": [
        "# Carrega o vetorizador\n",
        "vetorizador_final = pickle.load(open(\"modelos/vectorizer\", 'rb'))"
      ]
    },
    {
      "cell_type": "code",
      "execution_count": null,
      "id": "bc82ae48",
      "metadata": {
        "id": "bc82ae48"
      },
      "outputs": [],
      "source": [
        "# Carrega o modelo\n",
        "modelo_final = pickle.load(open(\"modelos/logisticRegression.pkl\", \"rb\"))"
      ]
    },
    {
      "cell_type": "code",
      "execution_count": null,
      "id": "016e8548",
      "metadata": {
        "id": "016e8548"
      },
      "outputs": [],
      "source": [
        "# Carrega os novos dados\n",
        "with open(\"dados/novos_dados_sql.txt\", \"r\") as file:\n",
        "    lines = file.readlines()"
      ]
    },
    {
      "cell_type": "code",
      "execution_count": null,
      "id": "01cd6b41",
      "metadata": {
        "id": "01cd6b41"
      },
      "outputs": [],
      "source": [
        "# Cria o dataframe\n",
        "novos_dados = pd.DataFrame(lines, columns = ['Query'])"
      ]
    },
    {
      "cell_type": "code",
      "execution_count": null,
      "id": "f919a47e",
      "metadata": {
        "id": "f919a47e"
      },
      "outputs": [],
      "source": [
        "# Limpa os dados\n",
        "novos_dados = novos_dados.replace(\"\\n\", \"\", regex = True)"
      ]
    },
    {
      "cell_type": "code",
      "execution_count": null,
      "id": "e7e82e0c",
      "metadata": {
        "colab": {
          "base_uri": "https://localhost:8080/",
          "height": 269
        },
        "id": "e7e82e0c",
        "outputId": "ed48f400-c7a8-469a-e118-952df15188b9"
      },
      "outputs": [
        {
          "data": {
            "text/html": [
              "\n",
              "  <div id=\"df-55306da9-5bcd-4a95-9a1e-9220904631e5\" class=\"colab-df-container\">\n",
              "    <div>\n",
              "<style scoped>\n",
              "    .dataframe tbody tr th:only-of-type {\n",
              "        vertical-align: middle;\n",
              "    }\n",
              "\n",
              "    .dataframe tbody tr th {\n",
              "        vertical-align: top;\n",
              "    }\n",
              "\n",
              "    .dataframe thead th {\n",
              "        text-align: right;\n",
              "    }\n",
              "</style>\n",
              "<table border=\"1\" class=\"dataframe\">\n",
              "  <thead>\n",
              "    <tr style=\"text-align: right;\">\n",
              "      <th></th>\n",
              "      <th>Query</th>\n",
              "    </tr>\n",
              "  </thead>\n",
              "  <tbody>\n",
              "    <tr>\n",
              "      <th>0</th>\n",
              "      <td>'UNION SELECT user, password FROM users#</td>\n",
              "    </tr>\n",
              "    <tr>\n",
              "      <th>1</th>\n",
              "      <td>1 or 1=1 UNION SELECT user, password FROM users#</td>\n",
              "    </tr>\n",
              "    <tr>\n",
              "      <th>2</th>\n",
              "      <td>1'UNION SELECT user, password FROM users#</td>\n",
              "    </tr>\n",
              "    <tr>\n",
              "      <th>3</th>\n",
              "      <td>1 or sleep(4)#</td>\n",
              "    </tr>\n",
              "    <tr>\n",
              "      <th>4</th>\n",
              "      <td>1' benchmark(10000000,MD5(1))#</td>\n",
              "    </tr>\n",
              "    <tr>\n",
              "      <th>5</th>\n",
              "      <td>5--</td>\n",
              "    </tr>\n",
              "    <tr>\n",
              "      <th>6</th>\n",
              "      <td>SELECT username, password FROM users</td>\n",
              "    </tr>\n",
              "  </tbody>\n",
              "</table>\n",
              "</div>\n",
              "    <div class=\"colab-df-buttons\">\n",
              "\n",
              "  <div class=\"colab-df-container\">\n",
              "    <button class=\"colab-df-convert\" onclick=\"convertToInteractive('df-55306da9-5bcd-4a95-9a1e-9220904631e5')\"\n",
              "            title=\"Convert this dataframe to an interactive table.\"\n",
              "            style=\"display:none;\">\n",
              "\n",
              "  <svg xmlns=\"http://www.w3.org/2000/svg\" height=\"24px\" viewBox=\"0 -960 960 960\">\n",
              "    <path d=\"M120-120v-720h720v720H120Zm60-500h600v-160H180v160Zm220 220h160v-160H400v160Zm0 220h160v-160H400v160ZM180-400h160v-160H180v160Zm440 0h160v-160H620v160ZM180-180h160v-160H180v160Zm440 0h160v-160H620v160Z\"/>\n",
              "  </svg>\n",
              "    </button>\n",
              "\n",
              "  <style>\n",
              "    .colab-df-container {\n",
              "      display:flex;\n",
              "      gap: 12px;\n",
              "    }\n",
              "\n",
              "    .colab-df-convert {\n",
              "      background-color: #E8F0FE;\n",
              "      border: none;\n",
              "      border-radius: 50%;\n",
              "      cursor: pointer;\n",
              "      display: none;\n",
              "      fill: #1967D2;\n",
              "      height: 32px;\n",
              "      padding: 0 0 0 0;\n",
              "      width: 32px;\n",
              "    }\n",
              "\n",
              "    .colab-df-convert:hover {\n",
              "      background-color: #E2EBFA;\n",
              "      box-shadow: 0px 1px 2px rgba(60, 64, 67, 0.3), 0px 1px 3px 1px rgba(60, 64, 67, 0.15);\n",
              "      fill: #174EA6;\n",
              "    }\n",
              "\n",
              "    .colab-df-buttons div {\n",
              "      margin-bottom: 4px;\n",
              "    }\n",
              "\n",
              "    [theme=dark] .colab-df-convert {\n",
              "      background-color: #3B4455;\n",
              "      fill: #D2E3FC;\n",
              "    }\n",
              "\n",
              "    [theme=dark] .colab-df-convert:hover {\n",
              "      background-color: #434B5C;\n",
              "      box-shadow: 0px 1px 3px 1px rgba(0, 0, 0, 0.15);\n",
              "      filter: drop-shadow(0px 1px 2px rgba(0, 0, 0, 0.3));\n",
              "      fill: #FFFFFF;\n",
              "    }\n",
              "  </style>\n",
              "\n",
              "    <script>\n",
              "      const buttonEl =\n",
              "        document.querySelector('#df-55306da9-5bcd-4a95-9a1e-9220904631e5 button.colab-df-convert');\n",
              "      buttonEl.style.display =\n",
              "        google.colab.kernel.accessAllowed ? 'block' : 'none';\n",
              "\n",
              "      async function convertToInteractive(key) {\n",
              "        const element = document.querySelector('#df-55306da9-5bcd-4a95-9a1e-9220904631e5');\n",
              "        const dataTable =\n",
              "          await google.colab.kernel.invokeFunction('convertToInteractive',\n",
              "                                                    [key], {});\n",
              "        if (!dataTable) return;\n",
              "\n",
              "        const docLinkHtml = 'Like what you see? Visit the ' +\n",
              "          '<a target=\"_blank\" href=https://colab.research.google.com/notebooks/data_table.ipynb>data table notebook</a>'\n",
              "          + ' to learn more about interactive tables.';\n",
              "        element.innerHTML = '';\n",
              "        dataTable['output_type'] = 'display_data';\n",
              "        await google.colab.output.renderOutput(dataTable, element);\n",
              "        const docLink = document.createElement('div');\n",
              "        docLink.innerHTML = docLinkHtml;\n",
              "        element.appendChild(docLink);\n",
              "      }\n",
              "    </script>\n",
              "  </div>\n",
              "\n",
              "\n",
              "<div id=\"df-c27d1024-4fe9-45e0-8fec-b64a3ce8103a\">\n",
              "  <button class=\"colab-df-quickchart\" onclick=\"quickchart('df-c27d1024-4fe9-45e0-8fec-b64a3ce8103a')\"\n",
              "            title=\"Suggest charts\"\n",
              "            style=\"display:none;\">\n",
              "\n",
              "<svg xmlns=\"http://www.w3.org/2000/svg\" height=\"24px\"viewBox=\"0 0 24 24\"\n",
              "     width=\"24px\">\n",
              "    <g>\n",
              "        <path d=\"M19 3H5c-1.1 0-2 .9-2 2v14c0 1.1.9 2 2 2h14c1.1 0 2-.9 2-2V5c0-1.1-.9-2-2-2zM9 17H7v-7h2v7zm4 0h-2V7h2v10zm4 0h-2v-4h2v4z\"/>\n",
              "    </g>\n",
              "</svg>\n",
              "  </button>\n",
              "\n",
              "<style>\n",
              "  .colab-df-quickchart {\n",
              "      --bg-color: #E8F0FE;\n",
              "      --fill-color: #1967D2;\n",
              "      --hover-bg-color: #E2EBFA;\n",
              "      --hover-fill-color: #174EA6;\n",
              "      --disabled-fill-color: #AAA;\n",
              "      --disabled-bg-color: #DDD;\n",
              "  }\n",
              "\n",
              "  [theme=dark] .colab-df-quickchart {\n",
              "      --bg-color: #3B4455;\n",
              "      --fill-color: #D2E3FC;\n",
              "      --hover-bg-color: #434B5C;\n",
              "      --hover-fill-color: #FFFFFF;\n",
              "      --disabled-bg-color: #3B4455;\n",
              "      --disabled-fill-color: #666;\n",
              "  }\n",
              "\n",
              "  .colab-df-quickchart {\n",
              "    background-color: var(--bg-color);\n",
              "    border: none;\n",
              "    border-radius: 50%;\n",
              "    cursor: pointer;\n",
              "    display: none;\n",
              "    fill: var(--fill-color);\n",
              "    height: 32px;\n",
              "    padding: 0;\n",
              "    width: 32px;\n",
              "  }\n",
              "\n",
              "  .colab-df-quickchart:hover {\n",
              "    background-color: var(--hover-bg-color);\n",
              "    box-shadow: 0 1px 2px rgba(60, 64, 67, 0.3), 0 1px 3px 1px rgba(60, 64, 67, 0.15);\n",
              "    fill: var(--button-hover-fill-color);\n",
              "  }\n",
              "\n",
              "  .colab-df-quickchart-complete:disabled,\n",
              "  .colab-df-quickchart-complete:disabled:hover {\n",
              "    background-color: var(--disabled-bg-color);\n",
              "    fill: var(--disabled-fill-color);\n",
              "    box-shadow: none;\n",
              "  }\n",
              "\n",
              "  .colab-df-spinner {\n",
              "    border: 2px solid var(--fill-color);\n",
              "    border-color: transparent;\n",
              "    border-bottom-color: var(--fill-color);\n",
              "    animation:\n",
              "      spin 1s steps(1) infinite;\n",
              "  }\n",
              "\n",
              "  @keyframes spin {\n",
              "    0% {\n",
              "      border-color: transparent;\n",
              "      border-bottom-color: var(--fill-color);\n",
              "      border-left-color: var(--fill-color);\n",
              "    }\n",
              "    20% {\n",
              "      border-color: transparent;\n",
              "      border-left-color: var(--fill-color);\n",
              "      border-top-color: var(--fill-color);\n",
              "    }\n",
              "    30% {\n",
              "      border-color: transparent;\n",
              "      border-left-color: var(--fill-color);\n",
              "      border-top-color: var(--fill-color);\n",
              "      border-right-color: var(--fill-color);\n",
              "    }\n",
              "    40% {\n",
              "      border-color: transparent;\n",
              "      border-right-color: var(--fill-color);\n",
              "      border-top-color: var(--fill-color);\n",
              "    }\n",
              "    60% {\n",
              "      border-color: transparent;\n",
              "      border-right-color: var(--fill-color);\n",
              "    }\n",
              "    80% {\n",
              "      border-color: transparent;\n",
              "      border-right-color: var(--fill-color);\n",
              "      border-bottom-color: var(--fill-color);\n",
              "    }\n",
              "    90% {\n",
              "      border-color: transparent;\n",
              "      border-bottom-color: var(--fill-color);\n",
              "    }\n",
              "  }\n",
              "</style>\n",
              "\n",
              "  <script>\n",
              "    async function quickchart(key) {\n",
              "      const quickchartButtonEl =\n",
              "        document.querySelector('#' + key + ' button');\n",
              "      quickchartButtonEl.disabled = true;  // To prevent multiple clicks.\n",
              "      quickchartButtonEl.classList.add('colab-df-spinner');\n",
              "      try {\n",
              "        const charts = await google.colab.kernel.invokeFunction(\n",
              "            'suggestCharts', [key], {});\n",
              "      } catch (error) {\n",
              "        console.error('Error during call to suggestCharts:', error);\n",
              "      }\n",
              "      quickchartButtonEl.classList.remove('colab-df-spinner');\n",
              "      quickchartButtonEl.classList.add('colab-df-quickchart-complete');\n",
              "    }\n",
              "    (() => {\n",
              "      let quickchartButtonEl =\n",
              "        document.querySelector('#df-c27d1024-4fe9-45e0-8fec-b64a3ce8103a button');\n",
              "      quickchartButtonEl.style.display =\n",
              "        google.colab.kernel.accessAllowed ? 'block' : 'none';\n",
              "    })();\n",
              "  </script>\n",
              "</div>\n",
              "    </div>\n",
              "  </div>\n"
            ],
            "text/plain": [
              "                                              Query\n",
              "0          'UNION SELECT user, password FROM users#\n",
              "1  1 or 1=1 UNION SELECT user, password FROM users#\n",
              "2         1'UNION SELECT user, password FROM users#\n",
              "3                                    1 or sleep(4)#\n",
              "4                    1' benchmark(10000000,MD5(1))#\n",
              "5                                               5--\n",
              "6              SELECT username, password FROM users"
            ]
          },
          "execution_count": 44,
          "metadata": {},
          "output_type": "execute_result"
        }
      ],
      "source": [
        "novos_dados"
      ]
    },
    {
      "cell_type": "code",
      "execution_count": null,
      "id": "623fc8a3",
      "metadata": {
        "id": "623fc8a3"
      },
      "outputs": [],
      "source": [
        "# Aplica o vetorizador\n",
        "sql_query = vetorizador_final.transform(novos_dados['Query'])"
      ]
    },
    {
      "cell_type": "code",
      "execution_count": null,
      "id": "9b1fb716",
      "metadata": {
        "id": "9b1fb716"
      },
      "outputs": [],
      "source": [
        "# Faz a previsão\n",
        "resultados = modelo_final.predict(sql_query)"
      ]
    },
    {
      "cell_type": "code",
      "execution_count": null,
      "id": "0d9bd471",
      "metadata": {
        "colab": {
          "base_uri": "https://localhost:8080/"
        },
        "id": "0d9bd471",
        "outputId": "12384999-0848-470f-9823-fab9850f2e09"
      },
      "outputs": [
        {
          "data": {
            "text/plain": [
              "array([1, 1, 1, 1, 1, 0, 0])"
            ]
          },
          "execution_count": 47,
          "metadata": {},
          "output_type": "execute_result"
        }
      ],
      "source": [
        "resultados"
      ]
    },
    {
      "cell_type": "code",
      "execution_count": null,
      "id": "7087d2c2",
      "metadata": {
        "id": "7087d2c2"
      },
      "outputs": [],
      "source": [
        "# Inicializa os contadores\n",
        "count_malicious = 0\n",
        "count_safe = 0"
      ]
    },
    {
      "cell_type": "code",
      "execution_count": null,
      "id": "337f7844-670a-4745-b182-a65c18f7f521",
      "metadata": {
        "colab": {
          "base_uri": "https://localhost:8080/"
        },
        "id": "337f7844-670a-4745-b182-a65c18f7f521",
        "outputId": "c3d81e81-bc05-4006-b9cb-ddab473d7c1c",
        "tags": []
      },
      "outputs": [
        {
          "name": "stdout",
          "output_type": "stream",
          "text": [
            "Previsões do Modelo:\n",
            "\n",
            "1\n",
            "1\n",
            "1\n",
            "1\n",
            "1\n",
            "0\n",
            "0\n"
          ]
        }
      ],
      "source": [
        "# Loop\n",
        "print(\"Previsões do Modelo:\\n\")\n",
        "for resultado in resultados:\n",
        "    if resultado == 1:\n",
        "        count_malicious = count_malicious + 1\n",
        "        print(\"1\")\n",
        "    else:\n",
        "        count_safe = count_safe + 1\n",
        "        print(\"0\")"
      ]
    },
    {
      "cell_type": "markdown",
      "id": "17ef1a8a",
      "metadata": {
        "id": "17ef1a8a"
      },
      "source": [
        "> Exemplo com uma nova instrução SQL."
      ]
    },
    {
      "cell_type": "code",
      "execution_count": null,
      "id": "e1d95303",
      "metadata": {
        "id": "e1d95303"
      },
      "outputs": [],
      "source": [
        "# Instrução SQL\n",
        "input_val = \"1, ( select  ( case when  ( 1609 = 1609 )  then waitfor delay '0:0:5' else 1609* ( select 1609 from master..sysdatabases )  end  )  )  \""
      ]
    },
    {
      "cell_type": "code",
      "execution_count": null,
      "id": "d9baa010",
      "metadata": {
        "id": "d9baa010"
      },
      "outputs": [],
      "source": [
        "# Prepara a lista\n",
        "input_val = [input_val]"
      ]
    },
    {
      "cell_type": "code",
      "execution_count": null,
      "id": "7f3d2c99",
      "metadata": {
        "id": "7f3d2c99"
      },
      "outputs": [],
      "source": [
        "# Aplica o vetorizador\n",
        "input_val = vetorizador_final.transform(input_val).toarray()"
      ]
    },
    {
      "cell_type": "code",
      "execution_count": null,
      "id": "5367505f",
      "metadata": {
        "id": "5367505f"
      },
      "outputs": [],
      "source": [
        "# Faz a previsão\n",
        "resultado = modelo_final.predict(input_val)"
      ]
    },
    {
      "cell_type": "code",
      "execution_count": null,
      "id": "925de68a",
      "metadata": {
        "colab": {
          "base_uri": "https://localhost:8080/"
        },
        "id": "925de68a",
        "outputId": "2ccdd951-043c-4e68-b54e-a21782535894"
      },
      "outputs": [
        {
          "data": {
            "text/plain": [
              "array([1])"
            ]
          },
          "execution_count": 54,
          "metadata": {},
          "output_type": "execute_result"
        }
      ],
      "source": [
        "resultado"
      ]
    },
    {
      "cell_type": "code",
      "execution_count": null,
      "id": "51749a9f",
      "metadata": {
        "colab": {
          "base_uri": "https://localhost:8080/"
        },
        "id": "51749a9f",
        "outputId": "a3415e32-5f6a-4f7a-d124-113db535cc87"
      },
      "outputs": [
        {
          "name": "stdout",
          "output_type": "stream",
          "text": [
            "A Query Provavelmente é Maliciosa! Pode Ser um Ataque de SQL Injection!\n"
          ]
        }
      ],
      "source": [
        "if resultado == 0:\n",
        "    print(\"A Query Provavelmente é Segura!\")\n",
        "elif resultado == 1:\n",
        "    print(\"A Query Provavelmente é Maliciosa! Pode Ser um Ataque de SQL Injection!\")\n",
        "else:\n",
        "    print(\"Valor inválido\")"
      ]
    },
    {
      "cell_type": "markdown",
      "id": "lQU75gORzhHf",
      "metadata": {
        "id": "lQU75gORzhHf"
      },
      "source": [
        "#Testando com outro dataset\n",
        "* Link do dataset: https://www.kaggle.com/code/iniestamoh/eda-sql-injection-dataset/input\n",
        "* O dataset foi filtrado, tinha algumas linhas erradas."
      ]
    },
    {
      "cell_type": "code",
      "execution_count": null,
      "id": "yJXI__I-0HUE",
      "metadata": {
        "id": "yJXI__I-0HUE"
      },
      "outputs": [],
      "source": [
        "# Carrega o vetorizador\n",
        "vetorizador_final = pickle.load(open(\"modelos/vectorizer\", 'rb'))"
      ]
    },
    {
      "cell_type": "code",
      "execution_count": null,
      "id": "Nnl4woac0DNG",
      "metadata": {
        "id": "Nnl4woac0DNG"
      },
      "outputs": [],
      "source": [
        "# Carrega o modelo\n",
        "logisticRegression = pickle.load(open(\"modelos/logisticRegression.pkl\", \"rb\"))\n",
        "naiveBaies = pickle.load(open(\"modelos/naiveBaies.pkl\", \"rb\"))"
      ]
    },
    {
      "cell_type": "code",
      "execution_count": null,
      "id": "FqwY2nQfzpTn",
      "metadata": {
        "id": "FqwY2nQfzpTn"
      },
      "outputs": [],
      "source": [
        "# Carrega o dataset de queries SQL submetidas a um banco de dados\n",
        "dados_sql = pd.read_csv(\"dados/dados_sql2.csv\", encoding='utf-8')\n",
        "dados_sql2= pd.read_csv(\"dados/dados_sql3.csv\", encoding='latin-1')"
      ]
    },
    {
      "cell_type": "code",
      "execution_count": null,
      "id": "PVYWK_2izst2",
      "metadata": {
        "colab": {
          "base_uri": "https://localhost:8080/"
        },
        "id": "PVYWK_2izst2",
        "outputId": "f31df21f-59ec-4dfc-dba3-fad98a497bb7"
      },
      "outputs": [
        {
          "output_type": "execute_result",
          "data": {
            "text/plain": [
              "270"
            ]
          },
          "metadata": {},
          "execution_count": 8
        }
      ],
      "source": [
        "# Verificando registros duplicados\n",
        "dados_sql.duplicated(subset = ['Query', 'Label']).sum()\n",
        "dados_sql2.duplicated(subset = ['Query', 'Label']).sum()"
      ]
    },
    {
      "cell_type": "code",
      "execution_count": null,
      "id": "12gCuObhzwyx",
      "metadata": {
        "id": "12gCuObhzwyx"
      },
      "outputs": [],
      "source": [
        "# Removendo registros duplicados\n",
        "dados_sql.drop_duplicates(inplace = True)\n",
        "dados_sql2.drop_duplicates(inplace = True)\n",
        "\n",
        "dados_sql = dados_sql.dropna(subset=['Query'])\n",
        "dados_sql2 = dados_sql2.dropna(subset=['Query'])"
      ]
    },
    {
      "cell_type": "code",
      "execution_count": null,
      "id": "wQdLUPAMzx_v",
      "metadata": {
        "id": "wQdLUPAMzx_v"
      },
      "outputs": [],
      "source": [
        "# Separa X e Y\n",
        "X = dados_sql['Query']\n",
        "y = dados_sql['Label']\n",
        "\n",
        "# Separa X e Y\n",
        "X2 = dados_sql2['Query']\n",
        "y2 = dados_sql2['Label']"
      ]
    },
    {
      "cell_type": "code",
      "execution_count": null,
      "id": "J23QSmcUzzaP",
      "metadata": {
        "id": "J23QSmcUzzaP"
      },
      "outputs": [],
      "source": [
        "# Aplica o vetorizador\n",
        "sql_query = vetorizador_final.transform(X)\n",
        "sql_query2 = vetorizador_final.transform(X2)"
      ]
    },
    {
      "cell_type": "code",
      "execution_count": null,
      "id": "XeBj31Ab0ADF",
      "metadata": {
        "id": "XeBj31Ab0ADF"
      },
      "outputs": [],
      "source": [
        "# Faz a previsão\n",
        "r1 = logisticRegression.predict(sql_query)\n",
        "r2 = logisticRegression.predict(sql_query2)\n",
        "r3 = naiveBaies.predict(sql_query)\n",
        "r4 = naiveBaies.predict(sql_query2)"
      ]
    },
    {
      "cell_type": "code",
      "source": [
        "f1_dict = {}\n",
        "precision_dict = {}\n",
        "recall_dict = {}\n",
        "accuracy_dict = {}\n",
        "\n",
        "f1_dict[\"LogisticRegression\"] = f1_score(r1, y)\n",
        "precision_dict[\"LogisticRegression\"] = precision_score(r1, y)\n",
        "recall_dict[\"LogisticRegression\"] = recall_score(r1, y)\n",
        "accuracy_dict['LogisticRegression'] = accuracy_score(r1, y)\n",
        "\n",
        "f1_dict[\"NaiveBayes\"] = f1_score(r3, y)\n",
        "precision_dict[\"NaiveBayes\"] = precision_score(r3, y)\n",
        "recall_dict[\"NaiveBayes\"] = recall_score(r3, y)\n",
        "accuracy_dict['NaiveBayes'] = accuracy_score(r3, y)"
      ],
      "metadata": {
        "id": "T8fBiunqbBo6"
      },
      "id": "T8fBiunqbBo6",
      "execution_count": null,
      "outputs": []
    },
    {
      "cell_type": "code",
      "source": [
        "# Os nomes das chaves serão os nomes dos dicionários\n",
        "chaves = f1_dict, precision_dict, recall_dict, accuracy_dict\n",
        "\n",
        "# Métricas\n",
        "metricas = ['F1_Score', 'Precision', 'Recall', 'Accuracy']\n",
        "\n",
        "# Dataframe\n",
        "tabela_metricas = pd.DataFrame(chaves)\n",
        "\n",
        "# Índice\n",
        "tabela_metricas.index = metricas\n",
        "\n",
        "# Tabela de métricas\n",
        "tabela_metricas"
      ],
      "metadata": {
        "colab": {
          "base_uri": "https://localhost:8080/",
          "height": 175
        },
        "id": "y8TQFj7gTOCe",
        "outputId": "afb02243-c9c3-495f-a92c-d4f8f946b3c1"
      },
      "id": "y8TQFj7gTOCe",
      "execution_count": null,
      "outputs": [
        {
          "output_type": "execute_result",
          "data": {
            "text/plain": [
              "           LogisticRegression  NaiveBayes\n",
              "F1_Score             0.967956    0.977738\n",
              "Precision            0.941974    0.966867\n",
              "Recall               0.995413    0.988856\n",
              "Accuracy             0.976948    0.983726"
            ],
            "text/html": [
              "\n",
              "  <div id=\"df-0c86d2f5-336b-400a-b9a7-ef95081de372\" class=\"colab-df-container\">\n",
              "    <div>\n",
              "<style scoped>\n",
              "    .dataframe tbody tr th:only-of-type {\n",
              "        vertical-align: middle;\n",
              "    }\n",
              "\n",
              "    .dataframe tbody tr th {\n",
              "        vertical-align: top;\n",
              "    }\n",
              "\n",
              "    .dataframe thead th {\n",
              "        text-align: right;\n",
              "    }\n",
              "</style>\n",
              "<table border=\"1\" class=\"dataframe\">\n",
              "  <thead>\n",
              "    <tr style=\"text-align: right;\">\n",
              "      <th></th>\n",
              "      <th>LogisticRegression</th>\n",
              "      <th>NaiveBayes</th>\n",
              "    </tr>\n",
              "  </thead>\n",
              "  <tbody>\n",
              "    <tr>\n",
              "      <th>F1_Score</th>\n",
              "      <td>0.967956</td>\n",
              "      <td>0.977738</td>\n",
              "    </tr>\n",
              "    <tr>\n",
              "      <th>Precision</th>\n",
              "      <td>0.941974</td>\n",
              "      <td>0.966867</td>\n",
              "    </tr>\n",
              "    <tr>\n",
              "      <th>Recall</th>\n",
              "      <td>0.995413</td>\n",
              "      <td>0.988856</td>\n",
              "    </tr>\n",
              "    <tr>\n",
              "      <th>Accuracy</th>\n",
              "      <td>0.976948</td>\n",
              "      <td>0.983726</td>\n",
              "    </tr>\n",
              "  </tbody>\n",
              "</table>\n",
              "</div>\n",
              "    <div class=\"colab-df-buttons\">\n",
              "\n",
              "  <div class=\"colab-df-container\">\n",
              "    <button class=\"colab-df-convert\" onclick=\"convertToInteractive('df-0c86d2f5-336b-400a-b9a7-ef95081de372')\"\n",
              "            title=\"Convert this dataframe to an interactive table.\"\n",
              "            style=\"display:none;\">\n",
              "\n",
              "  <svg xmlns=\"http://www.w3.org/2000/svg\" height=\"24px\" viewBox=\"0 -960 960 960\">\n",
              "    <path d=\"M120-120v-720h720v720H120Zm60-500h600v-160H180v160Zm220 220h160v-160H400v160Zm0 220h160v-160H400v160ZM180-400h160v-160H180v160Zm440 0h160v-160H620v160ZM180-180h160v-160H180v160Zm440 0h160v-160H620v160Z\"/>\n",
              "  </svg>\n",
              "    </button>\n",
              "\n",
              "  <style>\n",
              "    .colab-df-container {\n",
              "      display:flex;\n",
              "      gap: 12px;\n",
              "    }\n",
              "\n",
              "    .colab-df-convert {\n",
              "      background-color: #E8F0FE;\n",
              "      border: none;\n",
              "      border-radius: 50%;\n",
              "      cursor: pointer;\n",
              "      display: none;\n",
              "      fill: #1967D2;\n",
              "      height: 32px;\n",
              "      padding: 0 0 0 0;\n",
              "      width: 32px;\n",
              "    }\n",
              "\n",
              "    .colab-df-convert:hover {\n",
              "      background-color: #E2EBFA;\n",
              "      box-shadow: 0px 1px 2px rgba(60, 64, 67, 0.3), 0px 1px 3px 1px rgba(60, 64, 67, 0.15);\n",
              "      fill: #174EA6;\n",
              "    }\n",
              "\n",
              "    .colab-df-buttons div {\n",
              "      margin-bottom: 4px;\n",
              "    }\n",
              "\n",
              "    [theme=dark] .colab-df-convert {\n",
              "      background-color: #3B4455;\n",
              "      fill: #D2E3FC;\n",
              "    }\n",
              "\n",
              "    [theme=dark] .colab-df-convert:hover {\n",
              "      background-color: #434B5C;\n",
              "      box-shadow: 0px 1px 3px 1px rgba(0, 0, 0, 0.15);\n",
              "      filter: drop-shadow(0px 1px 2px rgba(0, 0, 0, 0.3));\n",
              "      fill: #FFFFFF;\n",
              "    }\n",
              "  </style>\n",
              "\n",
              "    <script>\n",
              "      const buttonEl =\n",
              "        document.querySelector('#df-0c86d2f5-336b-400a-b9a7-ef95081de372 button.colab-df-convert');\n",
              "      buttonEl.style.display =\n",
              "        google.colab.kernel.accessAllowed ? 'block' : 'none';\n",
              "\n",
              "      async function convertToInteractive(key) {\n",
              "        const element = document.querySelector('#df-0c86d2f5-336b-400a-b9a7-ef95081de372');\n",
              "        const dataTable =\n",
              "          await google.colab.kernel.invokeFunction('convertToInteractive',\n",
              "                                                    [key], {});\n",
              "        if (!dataTable) return;\n",
              "\n",
              "        const docLinkHtml = 'Like what you see? Visit the ' +\n",
              "          '<a target=\"_blank\" href=https://colab.research.google.com/notebooks/data_table.ipynb>data table notebook</a>'\n",
              "          + ' to learn more about interactive tables.';\n",
              "        element.innerHTML = '';\n",
              "        dataTable['output_type'] = 'display_data';\n",
              "        await google.colab.output.renderOutput(dataTable, element);\n",
              "        const docLink = document.createElement('div');\n",
              "        docLink.innerHTML = docLinkHtml;\n",
              "        element.appendChild(docLink);\n",
              "      }\n",
              "    </script>\n",
              "  </div>\n",
              "\n",
              "\n",
              "<div id=\"df-81f9ae4e-0768-45c9-b0eb-eac5a40f80d4\">\n",
              "  <button class=\"colab-df-quickchart\" onclick=\"quickchart('df-81f9ae4e-0768-45c9-b0eb-eac5a40f80d4')\"\n",
              "            title=\"Suggest charts\"\n",
              "            style=\"display:none;\">\n",
              "\n",
              "<svg xmlns=\"http://www.w3.org/2000/svg\" height=\"24px\"viewBox=\"0 0 24 24\"\n",
              "     width=\"24px\">\n",
              "    <g>\n",
              "        <path d=\"M19 3H5c-1.1 0-2 .9-2 2v14c0 1.1.9 2 2 2h14c1.1 0 2-.9 2-2V5c0-1.1-.9-2-2-2zM9 17H7v-7h2v7zm4 0h-2V7h2v10zm4 0h-2v-4h2v4z\"/>\n",
              "    </g>\n",
              "</svg>\n",
              "  </button>\n",
              "\n",
              "<style>\n",
              "  .colab-df-quickchart {\n",
              "      --bg-color: #E8F0FE;\n",
              "      --fill-color: #1967D2;\n",
              "      --hover-bg-color: #E2EBFA;\n",
              "      --hover-fill-color: #174EA6;\n",
              "      --disabled-fill-color: #AAA;\n",
              "      --disabled-bg-color: #DDD;\n",
              "  }\n",
              "\n",
              "  [theme=dark] .colab-df-quickchart {\n",
              "      --bg-color: #3B4455;\n",
              "      --fill-color: #D2E3FC;\n",
              "      --hover-bg-color: #434B5C;\n",
              "      --hover-fill-color: #FFFFFF;\n",
              "      --disabled-bg-color: #3B4455;\n",
              "      --disabled-fill-color: #666;\n",
              "  }\n",
              "\n",
              "  .colab-df-quickchart {\n",
              "    background-color: var(--bg-color);\n",
              "    border: none;\n",
              "    border-radius: 50%;\n",
              "    cursor: pointer;\n",
              "    display: none;\n",
              "    fill: var(--fill-color);\n",
              "    height: 32px;\n",
              "    padding: 0;\n",
              "    width: 32px;\n",
              "  }\n",
              "\n",
              "  .colab-df-quickchart:hover {\n",
              "    background-color: var(--hover-bg-color);\n",
              "    box-shadow: 0 1px 2px rgba(60, 64, 67, 0.3), 0 1px 3px 1px rgba(60, 64, 67, 0.15);\n",
              "    fill: var(--button-hover-fill-color);\n",
              "  }\n",
              "\n",
              "  .colab-df-quickchart-complete:disabled,\n",
              "  .colab-df-quickchart-complete:disabled:hover {\n",
              "    background-color: var(--disabled-bg-color);\n",
              "    fill: var(--disabled-fill-color);\n",
              "    box-shadow: none;\n",
              "  }\n",
              "\n",
              "  .colab-df-spinner {\n",
              "    border: 2px solid var(--fill-color);\n",
              "    border-color: transparent;\n",
              "    border-bottom-color: var(--fill-color);\n",
              "    animation:\n",
              "      spin 1s steps(1) infinite;\n",
              "  }\n",
              "\n",
              "  @keyframes spin {\n",
              "    0% {\n",
              "      border-color: transparent;\n",
              "      border-bottom-color: var(--fill-color);\n",
              "      border-left-color: var(--fill-color);\n",
              "    }\n",
              "    20% {\n",
              "      border-color: transparent;\n",
              "      border-left-color: var(--fill-color);\n",
              "      border-top-color: var(--fill-color);\n",
              "    }\n",
              "    30% {\n",
              "      border-color: transparent;\n",
              "      border-left-color: var(--fill-color);\n",
              "      border-top-color: var(--fill-color);\n",
              "      border-right-color: var(--fill-color);\n",
              "    }\n",
              "    40% {\n",
              "      border-color: transparent;\n",
              "      border-right-color: var(--fill-color);\n",
              "      border-top-color: var(--fill-color);\n",
              "    }\n",
              "    60% {\n",
              "      border-color: transparent;\n",
              "      border-right-color: var(--fill-color);\n",
              "    }\n",
              "    80% {\n",
              "      border-color: transparent;\n",
              "      border-right-color: var(--fill-color);\n",
              "      border-bottom-color: var(--fill-color);\n",
              "    }\n",
              "    90% {\n",
              "      border-color: transparent;\n",
              "      border-bottom-color: var(--fill-color);\n",
              "    }\n",
              "  }\n",
              "</style>\n",
              "\n",
              "  <script>\n",
              "    async function quickchart(key) {\n",
              "      const quickchartButtonEl =\n",
              "        document.querySelector('#' + key + ' button');\n",
              "      quickchartButtonEl.disabled = true;  // To prevent multiple clicks.\n",
              "      quickchartButtonEl.classList.add('colab-df-spinner');\n",
              "      try {\n",
              "        const charts = await google.colab.kernel.invokeFunction(\n",
              "            'suggestCharts', [key], {});\n",
              "      } catch (error) {\n",
              "        console.error('Error during call to suggestCharts:', error);\n",
              "      }\n",
              "      quickchartButtonEl.classList.remove('colab-df-spinner');\n",
              "      quickchartButtonEl.classList.add('colab-df-quickchart-complete');\n",
              "    }\n",
              "    (() => {\n",
              "      let quickchartButtonEl =\n",
              "        document.querySelector('#df-81f9ae4e-0768-45c9-b0eb-eac5a40f80d4 button');\n",
              "      quickchartButtonEl.style.display =\n",
              "        google.colab.kernel.accessAllowed ? 'block' : 'none';\n",
              "    })();\n",
              "  </script>\n",
              "</div>\n",
              "    </div>\n",
              "  </div>\n"
            ]
          },
          "metadata": {},
          "execution_count": 19
        }
      ]
    },
    {
      "cell_type": "code",
      "source": [
        "# Gráfico da tabela de métricas\n",
        "resultado = tabela_metricas.plot(kind = 'bar', rot = 0, figsize = (10, 5))\n",
        "resultado.legend(bbox_to_anchor = (1, 1.02), loc = 'upper left');"
      ],
      "metadata": {
        "colab": {
          "base_uri": "https://localhost:8080/",
          "height": 446
        },
        "id": "s3899R-IcKhz",
        "outputId": "b612d700-3e0f-4827-dd77-d79e6cb4dd39"
      },
      "id": "s3899R-IcKhz",
      "execution_count": null,
      "outputs": [
        {
          "output_type": "display_data",
          "data": {
            "text/plain": [
              "<Figure size 1000x500 with 1 Axes>"
            ],
            "image/png": "[encoded data removed]"
          },
          "metadata": {}
        }
      ]
    },
    {
      "cell_type": "code",
      "source": [
        "f1_dict = {}\n",
        "precision_dict = {}\n",
        "recall_dict = {}\n",
        "accuracy_dict = {}\n",
        "\n",
        "f1_dict[\"LogisticRegression\"] = f1_score(r2, y2)\n",
        "precision_dict[\"LogisticRegression\"] = precision_score(r2, y2)\n",
        "recall_dict[\"LogisticRegression\"] = recall_score(r2, y2)\n",
        "accuracy_dict['LogisticRegression'] = accuracy_score(r2, y2)\n",
        "\n",
        "f1_dict[\"NaiveBayes\"] = f1_score(r4, y2)\n",
        "precision_dict[\"NaiveBayes\"] = precision_score(r4, y2)\n",
        "recall_dict[\"NaiveBayes\"] = recall_score(r4, y2)\n",
        "accuracy_dict['NaiveBayes'] = accuracy_score(r4, y2)\n",
        "\n",
        "# Os nomes das chaves serão os nomes dos dicionários\n",
        "chaves = f1_dict, precision_dict, recall_dict, accuracy_dict\n",
        "\n",
        "# Métricas\n",
        "metricas = ['F1_Score', 'Precision', 'Recall', 'Accuracy']\n",
        "\n",
        "# Dataframe\n",
        "tabela_metricas = pd.DataFrame(chaves)\n",
        "\n",
        "# Índice\n",
        "tabela_metricas.index = metricas\n",
        "\n",
        "# Tabela de métricas\n",
        "tabela_metricas"
      ],
      "metadata": {
        "colab": {
          "base_uri": "https://localhost:8080/",
          "height": 175
        },
        "id": "_oO5FZEpEld0",
        "outputId": "283ebeb6-f298-4b3e-ddd1-3b7840a9e396"
      },
      "id": "_oO5FZEpEld0",
      "execution_count": null,
      "outputs": [
        {
          "output_type": "execute_result",
          "data": {
            "text/plain": [
              "           LogisticRegression  NaiveBayes\n",
              "F1_Score             0.904679    0.916571\n",
              "Precision            0.849241    0.869848\n",
              "Recall               0.967862    0.968599\n",
              "Accuracy             0.957919    0.962765"
            ],
            "text/html": [
              "\n",
              "  <div id=\"df-1924d496-f42a-48eb-8080-3671a5d81c82\" class=\"colab-df-container\">\n",
              "    <div>\n",
              "<style scoped>\n",
              "    .dataframe tbody tr th:only-of-type {\n",
              "        vertical-align: middle;\n",
              "    }\n",
              "\n",
              "    .dataframe tbody tr th {\n",
              "        vertical-align: top;\n",
              "    }\n",
              "\n",
              "    .dataframe thead th {\n",
              "        text-align: right;\n",
              "    }\n",
              "</style>\n",
              "<table border=\"1\" class=\"dataframe\">\n",
              "  <thead>\n",
              "    <tr style=\"text-align: right;\">\n",
              "      <th></th>\n",
              "      <th>LogisticRegression</th>\n",
              "      <th>NaiveBayes</th>\n",
              "    </tr>\n",
              "  </thead>\n",
              "  <tbody>\n",
              "    <tr>\n",
              "      <th>F1_Score</th>\n",
              "      <td>0.904679</td>\n",
              "      <td>0.916571</td>\n",
              "    </tr>\n",
              "    <tr>\n",
              "      <th>Precision</th>\n",
              "      <td>0.849241</td>\n",
              "      <td>0.869848</td>\n",
              "    </tr>\n",
              "    <tr>\n",
              "      <th>Recall</th>\n",
              "      <td>0.967862</td>\n",
              "      <td>0.968599</td>\n",
              "    </tr>\n",
              "    <tr>\n",
              "      <th>Accuracy</th>\n",
              "      <td>0.957919</td>\n",
              "      <td>0.962765</td>\n",
              "    </tr>\n",
              "  </tbody>\n",
              "</table>\n",
              "</div>\n",
              "    <div class=\"colab-df-buttons\">\n",
              "\n",
              "  <div class=\"colab-df-container\">\n",
              "    <button class=\"colab-df-convert\" onclick=\"convertToInteractive('df-1924d496-f42a-48eb-8080-3671a5d81c82')\"\n",
              "            title=\"Convert this dataframe to an interactive table.\"\n",
              "            style=\"display:none;\">\n",
              "\n",
              "  <svg xmlns=\"http://www.w3.org/2000/svg\" height=\"24px\" viewBox=\"0 -960 960 960\">\n",
              "    <path d=\"M120-120v-720h720v720H120Zm60-500h600v-160H180v160Zm220 220h160v-160H400v160Zm0 220h160v-160H400v160ZM180-400h160v-160H180v160Zm440 0h160v-160H620v160ZM180-180h160v-160H180v160Zm440 0h160v-160H620v160Z\"/>\n",
              "  </svg>\n",
              "    </button>\n",
              "\n",
              "  <style>\n",
              "    .colab-df-container {\n",
              "      display:flex;\n",
              "      gap: 12px;\n",
              "    }\n",
              "\n",
              "    .colab-df-convert {\n",
              "      background-color: #E8F0FE;\n",
              "      border: none;\n",
              "      border-radius: 50%;\n",
              "      cursor: pointer;\n",
              "      display: none;\n",
              "      fill: #1967D2;\n",
              "      height: 32px;\n",
              "      padding: 0 0 0 0;\n",
              "      width: 32px;\n",
              "    }\n",
              "\n",
              "    .colab-df-convert:hover {\n",
              "      background-color: #E2EBFA;\n",
              "      box-shadow: 0px 1px 2px rgba(60, 64, 67, 0.3), 0px 1px 3px 1px rgba(60, 64, 67, 0.15);\n",
              "      fill: #174EA6;\n",
              "    }\n",
              "\n",
              "    .colab-df-buttons div {\n",
              "      margin-bottom: 4px;\n",
              "    }\n",
              "\n",
              "    [theme=dark] .colab-df-convert {\n",
              "      background-color: #3B4455;\n",
              "      fill: #D2E3FC;\n",
              "    }\n",
              "\n",
              "    [theme=dark] .colab-df-convert:hover {\n",
              "      background-color: #434B5C;\n",
              "      box-shadow: 0px 1px 3px 1px rgba(0, 0, 0, 0.15);\n",
              "      filter: drop-shadow(0px 1px 2px rgba(0, 0, 0, 0.3));\n",
              "      fill: #FFFFFF;\n",
              "    }\n",
              "  </style>\n",
              "\n",
              "    <script>\n",
              "      const buttonEl =\n",
              "        document.querySelector('#df-1924d496-f42a-48eb-8080-3671a5d81c82 button.colab-df-convert');\n",
              "      buttonEl.style.display =\n",
              "        google.colab.kernel.accessAllowed ? 'block' : 'none';\n",
              "\n",
              "      async function convertToInteractive(key) {\n",
              "        const element = document.querySelector('#df-1924d496-f42a-48eb-8080-3671a5d81c82');\n",
              "        const dataTable =\n",
              "          await google.colab.kernel.invokeFunction('convertToInteractive',\n",
              "                                                    [key], {});\n",
              "        if (!dataTable) return;\n",
              "\n",
              "        const docLinkHtml = 'Like what you see? Visit the ' +\n",
              "          '<a target=\"_blank\" href=https://colab.research.google.com/notebooks/data_table.ipynb>data table notebook</a>'\n",
              "          + ' to learn more about interactive tables.';\n",
              "        element.innerHTML = '';\n",
              "        dataTable['output_type'] = 'display_data';\n",
              "        await google.colab.output.renderOutput(dataTable, element);\n",
              "        const docLink = document.createElement('div');\n",
              "        docLink.innerHTML = docLinkHtml;\n",
              "        element.appendChild(docLink);\n",
              "      }\n",
              "    </script>\n",
              "  </div>\n",
              "\n",
              "\n",
              "<div id=\"df-db65930e-003b-4498-8876-bc68a24cb249\">\n",
              "  <button class=\"colab-df-quickchart\" onclick=\"quickchart('df-db65930e-003b-4498-8876-bc68a24cb249')\"\n",
              "            title=\"Suggest charts\"\n",
              "            style=\"display:none;\">\n",
              "\n",
              "<svg xmlns=\"http://www.w3.org/2000/svg\" height=\"24px\"viewBox=\"0 0 24 24\"\n",
              "     width=\"24px\">\n",
              "    <g>\n",
              "        <path d=\"M19 3H5c-1.1 0-2 .9-2 2v14c0 1.1.9 2 2 2h14c1.1 0 2-.9 2-2V5c0-1.1-.9-2-2-2zM9 17H7v-7h2v7zm4 0h-2V7h2v10zm4 0h-2v-4h2v4z\"/>\n",
              "    </g>\n",
              "</svg>\n",
              "  </button>\n",
              "\n",
              "<style>\n",
              "  .colab-df-quickchart {\n",
              "      --bg-color: #E8F0FE;\n",
              "      --fill-color: #1967D2;\n",
              "      --hover-bg-color: #E2EBFA;\n",
              "      --hover-fill-color: #174EA6;\n",
              "      --disabled-fill-color: #AAA;\n",
              "      --disabled-bg-color: #DDD;\n",
              "  }\n",
              "\n",
              "  [theme=dark] .colab-df-quickchart {\n",
              "      --bg-color: #3B4455;\n",
              "      --fill-color: #D2E3FC;\n",
              "      --hover-bg-color: #434B5C;\n",
              "      --hover-fill-color: #FFFFFF;\n",
              "      --disabled-bg-color: #3B4455;\n",
              "      --disabled-fill-color: #666;\n",
              "  }\n",
              "\n",
              "  .colab-df-quickchart {\n",
              "    background-color: var(--bg-color);\n",
              "    border: none;\n",
              "    border-radius: 50%;\n",
              "    cursor: pointer;\n",
              "    display: none;\n",
              "    fill: var(--fill-color);\n",
              "    height: 32px;\n",
              "    padding: 0;\n",
              "    width: 32px;\n",
              "  }\n",
              "\n",
              "  .colab-df-quickchart:hover {\n",
              "    background-color: var(--hover-bg-color);\n",
              "    box-shadow: 0 1px 2px rgba(60, 64, 67, 0.3), 0 1px 3px 1px rgba(60, 64, 67, 0.15);\n",
              "    fill: var(--button-hover-fill-color);\n",
              "  }\n",
              "\n",
              "  .colab-df-quickchart-complete:disabled,\n",
              "  .colab-df-quickchart-complete:disabled:hover {\n",
              "    background-color: var(--disabled-bg-color);\n",
              "    fill: var(--disabled-fill-color);\n",
              "    box-shadow: none;\n",
              "  }\n",
              "\n",
              "  .colab-df-spinner {\n",
              "    border: 2px solid var(--fill-color);\n",
              "    border-color: transparent;\n",
              "    border-bottom-color: var(--fill-color);\n",
              "    animation:\n",
              "      spin 1s steps(1) infinite;\n",
              "  }\n",
              "\n",
              "  @keyframes spin {\n",
              "    0% {\n",
              "      border-color: transparent;\n",
              "      border-bottom-color: var(--fill-color);\n",
              "      border-left-color: var(--fill-color);\n",
              "    }\n",
              "    20% {\n",
              "      border-color: transparent;\n",
              "      border-left-color: var(--fill-color);\n",
              "      border-top-color: var(--fill-color);\n",
              "    }\n",
              "    30% {\n",
              "      border-color: transparent;\n",
              "      border-left-color: var(--fill-color);\n",
              "      border-top-color: var(--fill-color);\n",
              "      border-right-color: var(--fill-color);\n",
              "    }\n",
              "    40% {\n",
              "      border-color: transparent;\n",
              "      border-right-color: var(--fill-color);\n",
              "      border-top-color: var(--fill-color);\n",
              "    }\n",
              "    60% {\n",
              "      border-color: transparent;\n",
              "      border-right-color: var(--fill-color);\n",
              "    }\n",
              "    80% {\n",
              "      border-color: transparent;\n",
              "      border-right-color: var(--fill-color);\n",
              "      border-bottom-color: var(--fill-color);\n",
              "    }\n",
              "    90% {\n",
              "      border-color: transparent;\n",
              "      border-bottom-color: var(--fill-color);\n",
              "    }\n",
              "  }\n",
              "</style>\n",
              "\n",
              "  <script>\n",
              "    async function quickchart(key) {\n",
              "      const quickchartButtonEl =\n",
              "        document.querySelector('#' + key + ' button');\n",
              "      quickchartButtonEl.disabled = true;  // To prevent multiple clicks.\n",
              "      quickchartButtonEl.classList.add('colab-df-spinner');\n",
              "      try {\n",
              "        const charts = await google.colab.kernel.invokeFunction(\n",
              "            'suggestCharts', [key], {});\n",
              "      } catch (error) {\n",
              "        console.error('Error during call to suggestCharts:', error);\n",
              "      }\n",
              "      quickchartButtonEl.classList.remove('colab-df-spinner');\n",
              "      quickchartButtonEl.classList.add('colab-df-quickchart-complete');\n",
              "    }\n",
              "    (() => {\n",
              "      let quickchartButtonEl =\n",
              "        document.querySelector('#df-db65930e-003b-4498-8876-bc68a24cb249 button');\n",
              "      quickchartButtonEl.style.display =\n",
              "        google.colab.kernel.accessAllowed ? 'block' : 'none';\n",
              "    })();\n",
              "  </script>\n",
              "</div>\n",
              "    </div>\n",
              "  </div>\n"
            ]
          },
          "metadata": {},
          "execution_count": 21
        }
      ]
    },
    {
      "cell_type": "code",
      "source": [
        "# Gráfico da tabela de métricas\n",
        "resultado = tabela_metricas.plot(kind = 'bar', rot = 0, figsize = (10, 5))\n",
        "resultado.legend(bbox_to_anchor = (1, 1.02), loc = 'upper left');"
      ],
      "metadata": {
        "colab": {
          "base_uri": "https://localhost:8080/",
          "height": 446
        },
        "id": "hr32tD6UEqDT",
        "outputId": "b7439ebf-8c8a-4512-b2a2-21693358899a"
      },
      "id": "hr32tD6UEqDT",
      "execution_count": null,
      "outputs": [
        {
          "output_type": "display_data",
          "data": {
            "text/plain": [
              "<Figure size 1000x500 with 1 Axes>"
            ],
            "image/png": "[encoded data removed]"
          },
          "metadata": {}
        }
      ]
    }
  ],
  "metadata": {
    "colab": {
      "provenance": []
    },
    "kernelspec": {
      "display_name": "Python 3 (ipykernel)",
      "language": "python",
      "name": "python3"
    },
    "language_info": {
      "codemirror_mode": {
        "name": "ipython",
        "version": 3
      },
      "file_extension": ".py",
      "mimetype": "text/x-python",
      "name": "python",
      "nbconvert_exporter": "python",
      "pygments_lexer": "ipython3",
      "version": "3.10.9"
    }
  },
  "nbformat": 4,
  "nbformat_minor": 5
}